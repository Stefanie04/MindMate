{
  "cells": [
    {
      "cell_type": "markdown",
      "metadata": {
        "colab_type": "text",
        "id": "view-in-github"
      },
      "source": [
        "<a href=\"https://colab.research.google.com/github/Stefanie04/MindMate/blob/main/Notebook_Stefanie.ipynb\" target=\"_parent\"><img src=\"https://colab.research.google.com/assets/colab-badge.svg\" alt=\"Open In Colab\"/></a>"
      ]
    },
    {
      "cell_type": "markdown",
      "metadata": {
        "id": "ztUshbsm_kZa"
      },
      "source": [
        "# Start ▶"
      ]
    },
    {
      "cell_type": "code",
      "execution_count": 1,
      "metadata": {
        "colab": {
          "base_uri": "https://localhost:8080/"
        },
        "id": "8FWRTQc9_eHj",
        "outputId": "ff214da6-bfa5-416e-bbd0-151182e04acb"
      },
      "outputs": [
        {
          "name": "stderr",
          "output_type": "stream",
          "text": [
            "[nltk_data] Downloading package punkt to\n",
            "[nltk_data]     C:\\Users\\sdonthi\\AppData\\Roaming\\nltk_data...\n",
            "[nltk_data]   Package punkt is already up-to-date!\n"
          ]
        },
        {
          "data": {
            "text/plain": [
              "True"
            ]
          },
          "execution_count": 1,
          "metadata": {},
          "output_type": "execute_result"
        }
      ],
      "source": [
        "import pandas as pd\n",
        "import numpy as np\n",
        "import matplotlib.pyplot as plt\n",
        "from datetime import datetime, date\n",
        "#from google.colab import drive\n",
        "#drive.mount('/content/drive')\n",
        "\n",
        "import json\n",
        "\n",
        "import io\n",
        "import re\n",
        "import random\n",
        "import string\n",
        "import tqdm\n",
        "import pickle\n",
        "\n",
        "import tensorflow as tf\n",
        "from tensorflow.keras import layers\n",
        "\n",
        "import nltk\n",
        "nltk.download('punkt')"
      ]
    },
    {
      "cell_type": "code",
      "execution_count": 2,
      "metadata": {
        "id": "weJWzjDZ_qNu"
      },
      "outputs": [],
      "source": [
        "with open('Dataset/intents-rev2.json', 'r') as f:\n",
        "    json_string = f.read()"
      ]
    },
    {
      "cell_type": "markdown",
      "metadata": {
        "id": "Bfy0p3N6_6VS"
      },
      "source": [
        "# Preperation of the dataset 🚧"
      ]
    },
    {
      "cell_type": "code",
      "execution_count": 3,
      "metadata": {
        "id": "7M5rMZsbACxS"
      },
      "outputs": [],
      "source": [
        "json_dict = json.loads(json_string)\n",
        "intents = json_dict['intents']"
      ]
    },
    {
      "cell_type": "code",
      "execution_count": 5,
      "metadata": {
        "id": "ny-qKe6LAHp-"
      },
      "outputs": [],
      "source": [
        "tags = []\n",
        "patterns = []\n",
        "responses = {}\n",
        "for intents in json_dict['intents']:\n",
        "    responses[intents['tag']]=intents['responses']\n",
        "    for lines in intents['patterns']:\n",
        "      patterns.append(lines)\n",
        "      tags.append(intents['tag'])\n",
        "json_df = pd.DataFrame({'tags':tags, 'patterns':patterns})"
      ]
    },
    {
      "cell_type": "markdown",
      "metadata": {
        "id": "xcOhojwWA0KN"
      },
      "source": [
        "# Pre-Processing 🏗"
      ]
    },
    {
      "cell_type": "markdown",
      "metadata": {
        "id": "gUsR6-jdA8P3"
      },
      "source": [
        "## Lowercases / removing punctuation"
      ]
    },
    {
      "cell_type": "code",
      "execution_count": 6,
      "metadata": {
        "colab": {
          "base_uri": "https://localhost:8080/"
        },
        "id": "OopZrjvfA7tb",
        "outputId": "58886684-afd7-4be9-f4ea-354eeb522ff2"
      },
      "outputs": [
        {
          "name": "stderr",
          "output_type": "stream",
          "text": [
            "C:\\Users\\sdonthi\\AppData\\Local\\Temp/ipykernel_18300/1545242841.py:4: FutureWarning: The default value of regex will change from True to False in a future version.\n",
            "  pre_df = pre_df.apply(lambda x: x.astype(str).str.replace('[{}]'.format(string.punctuation),''))\n"
          ]
        }
      ],
      "source": [
        "pre_df = json_df.apply(lambda x: x.astype(str).str.lower())\n",
        "\n",
        "import string\n",
        "pre_df = pre_df.apply(lambda x: x.astype(str).str.replace('[{}]'.format(string.punctuation),''))"
      ]
    },
    {
      "cell_type": "markdown",
      "metadata": {
        "id": "c4YJZtSRBKSV"
      },
      "source": [
        "## Tokenization"
      ]
    },
    {
      "cell_type": "code",
      "execution_count": 7,
      "metadata": {
        "id": "y41cOYtjBI-V"
      },
      "outputs": [],
      "source": [
        "from tensorflow.keras.preprocessing.text import Tokenizer\n",
        "# Create a Tokenizer object\n",
        "tokenizer = Tokenizer(num_words=2000)\n",
        "tokenizer.fit_on_texts(pre_df['patterns'])\n",
        "tokenized_text = tokenizer.texts_to_sequences(pre_df['patterns'])\n",
        "\n",
        "with open('tokenizer.pkl', 'wb') as handle:\n",
        "    pickle.dump(tokenizer, handle, protocol=pickle.HIGHEST_PROTOCOL)\n",
        "\n",
        "from tensorflow.keras.preprocessing.sequence import pad_sequences\n",
        "x_train = pad_sequences(tokenized_text)\n",
        "\n",
        "from sklearn.preprocessing import LabelEncoder\n",
        "# Create a LabelEncoder object\n",
        "encoder = LabelEncoder()\n",
        "y_train = encoder.fit_transform(pre_df['tags'])\n",
        "\n",
        "#exporting the departure encoder\n",
        "output = open('encoder.pkl', 'wb')\n",
        "pickle.dump(encoder, output)\n",
        "output.close()"
      ]
    },
    {
      "cell_type": "code",
      "execution_count": 8,
      "metadata": {},
      "outputs": [],
      "source": [
        "pre_df.to_pickle('pre_df.pkl')"
      ]
    },
    {
      "cell_type": "code",
      "execution_count": 9,
      "metadata": {
        "colab": {
          "base_uri": "https://localhost:8080/"
        },
        "id": "EBy1e1w6Bksk",
        "outputId": "e5c6b5ef-9db7-431c-98f9-3fa52a7e0dd3"
      },
      "outputs": [
        {
          "name": "stdout",
          "output_type": "stream",
          "text": [
            "Found 443 unique tokens.\n"
          ]
        }
      ],
      "source": [
        "# Creating the word list\n",
        "word_index = tokenizer.word_index\n",
        "print(\"Found %s unique tokens.\" % len(word_index))"
      ]
    },
    {
      "cell_type": "code",
      "execution_count": 10,
      "metadata": {
        "colab": {
          "base_uri": "https://localhost:8080/"
        },
        "id": "BvelbXz8B6l-",
        "outputId": "29136beb-5867-4c19-e6d6-8e636c6a06ef"
      },
      "outputs": [
        {
          "name": "stdout",
          "output_type": "stream",
          "text": [
            "(330, 21)\n",
            "(330,)\n"
          ]
        }
      ],
      "source": [
        "print(x_train.shape)\n",
        "print(y_train.shape)"
      ]
    },
    {
      "cell_type": "code",
      "execution_count": 11,
      "metadata": {
        "colab": {
          "base_uri": "https://localhost:8080/"
        },
        "id": "8EL-ywK9JenS",
        "outputId": "100c5d6a-e64b-4606-962c-ea3e9a085b35"
      },
      "outputs": [
        {
          "name": "stdout",
          "output_type": "stream",
          "text": [
            "Output length:  166\n"
          ]
        }
      ],
      "source": [
        "output_length = encoder.classes_.shape[0]\n",
        "print('Output length: ', output_length)"
      ]
    },
    {
      "cell_type": "markdown",
      "metadata": {
        "id": "Sqi7mBtqCFQ1"
      },
      "source": [
        "# Model 🕸"
      ]
    },
    {
      "cell_type": "code",
      "execution_count": 12,
      "metadata": {
        "id": "w2KFFKWMGZue"
      },
      "outputs": [],
      "source": [
        "from keras.models import Model\n",
        "from keras.models import Sequential\n",
        "from keras.layers import Input, Embedding, LSTM, Flatten, Dense, Dropout"
      ]
    },
    {
      "cell_type": "code",
      "execution_count": 13,
      "metadata": {
        "id": "nWSHMWOUGfne"
      },
      "outputs": [],
      "source": [
        "input_size = x_train.shape[1]\n",
        "output_size = encoder.classes_.shape[0]"
      ]
    },
    {
      "cell_type": "code",
      "execution_count": 15,
      "metadata": {},
      "outputs": [
        {
          "name": "stdout",
          "output_type": "stream",
          "text": [
            "input_size=21,output_size=166\n"
          ]
        }
      ],
      "source": [
        "print(\"input_size=\" + str(input_size) + \",output_size=\"+str(output_size))"
      ]
    },
    {
      "cell_type": "code",
      "execution_count": 16,
      "metadata": {
        "id": "mUDm5DpyGh7U"
      },
      "outputs": [],
      "source": [
        "model = Sequential()\n",
        "model.add(Embedding(len(word_index) + 1, 16, input_shape=(input_size,)))\n",
        "model.add(LSTM(16, return_sequences=True))\n",
        "model.add(LSTM(32, return_sequences=True))\n",
        "model.add(Dropout(0.2))\n",
        "model.add(Flatten())\n",
        "model.add(Dense(output_length, activation='sigmoid'))"
      ]
    },
    {
      "cell_type": "code",
      "execution_count": 17,
      "metadata": {
        "id": "tkh3vnGmGklT"
      },
      "outputs": [],
      "source": [
        "model.compile(loss='sparse_categorical_crossentropy', optimizer='adam', metrics=['accuracy'])"
      ]
    },
    {
      "cell_type": "code",
      "execution_count": 18,
      "metadata": {
        "colab": {
          "base_uri": "https://localhost:8080/"
        },
        "id": "4eiREB_pGnsJ",
        "outputId": "f2c1b34f-809a-46e2-d368-6c215c5a5404"
      },
      "outputs": [
        {
          "name": "stdout",
          "output_type": "stream",
          "text": [
            "Epoch 1/200\n",
            "11/11 [==============================] - 2s 11ms/step - loss: 5.1034 - accuracy: 0.0152\n",
            "Epoch 2/200\n",
            "11/11 [==============================] - 0s 10ms/step - loss: 5.0178 - accuracy: 0.0212\n",
            "Epoch 3/200\n",
            "11/11 [==============================] - 0s 10ms/step - loss: 4.8282 - accuracy: 0.0273\n",
            "Epoch 4/200\n",
            "11/11 [==============================] - 0s 10ms/step - loss: 4.7731 - accuracy: 0.0303\n",
            "Epoch 5/200\n",
            "11/11 [==============================] - 0s 10ms/step - loss: 4.7315 - accuracy: 0.0212\n",
            "Epoch 6/200\n",
            "11/11 [==============================] - 0s 10ms/step - loss: 4.7000 - accuracy: 0.0364\n",
            "Epoch 7/200\n",
            "11/11 [==============================] - 0s 11ms/step - loss: 4.6397 - accuracy: 0.0394\n",
            "Epoch 8/200\n",
            "11/11 [==============================] - 0s 11ms/step - loss: 4.5831 - accuracy: 0.0424\n",
            "Epoch 9/200\n",
            "11/11 [==============================] - 0s 12ms/step - loss: 4.5070 - accuracy: 0.0333\n",
            "Epoch 10/200\n",
            "11/11 [==============================] - 0s 11ms/step - loss: 4.4418 - accuracy: 0.0394\n",
            "Epoch 11/200\n",
            "11/11 [==============================] - 0s 11ms/step - loss: 4.3555 - accuracy: 0.0424\n",
            "Epoch 12/200\n",
            "11/11 [==============================] - 0s 10ms/step - loss: 4.2707 - accuracy: 0.0485\n",
            "Epoch 13/200\n",
            "11/11 [==============================] - 0s 11ms/step - loss: 4.2050 - accuracy: 0.0545\n",
            "Epoch 14/200\n",
            "11/11 [==============================] - 0s 10ms/step - loss: 4.1269 - accuracy: 0.0545\n",
            "Epoch 15/200\n",
            "11/11 [==============================] - 0s 10ms/step - loss: 4.0780 - accuracy: 0.0636\n",
            "Epoch 16/200\n",
            "11/11 [==============================] - 0s 10ms/step - loss: 4.0144 - accuracy: 0.0697\n",
            "Epoch 17/200\n",
            "11/11 [==============================] - 0s 10ms/step - loss: 3.9355 - accuracy: 0.0697\n",
            "Epoch 18/200\n",
            "11/11 [==============================] - 0s 10ms/step - loss: 3.9003 - accuracy: 0.0697\n",
            "Epoch 19/200\n",
            "11/11 [==============================] - 0s 11ms/step - loss: 3.8256 - accuracy: 0.0758\n",
            "Epoch 20/200\n",
            "11/11 [==============================] - 0s 11ms/step - loss: 3.7744 - accuracy: 0.0667\n",
            "Epoch 21/200\n",
            "11/11 [==============================] - 0s 10ms/step - loss: 3.7048 - accuracy: 0.0636\n",
            "Epoch 22/200\n",
            "11/11 [==============================] - 0s 11ms/step - loss: 3.6852 - accuracy: 0.0879\n",
            "Epoch 23/200\n",
            "11/11 [==============================] - 0s 10ms/step - loss: 3.6117 - accuracy: 0.0939\n",
            "Epoch 24/200\n",
            "11/11 [==============================] - 0s 12ms/step - loss: 3.5907 - accuracy: 0.0879\n",
            "Epoch 25/200\n",
            "11/11 [==============================] - 0s 11ms/step - loss: 3.5376 - accuracy: 0.1061\n",
            "Epoch 26/200\n",
            "11/11 [==============================] - 0s 10ms/step - loss: 3.4738 - accuracy: 0.0848\n",
            "Epoch 27/200\n",
            "11/11 [==============================] - 0s 11ms/step - loss: 3.4314 - accuracy: 0.1000\n",
            "Epoch 28/200\n",
            "11/11 [==============================] - 0s 11ms/step - loss: 3.4151 - accuracy: 0.0970\n",
            "Epoch 29/200\n",
            "11/11 [==============================] - 0s 11ms/step - loss: 3.3600 - accuracy: 0.1152\n",
            "Epoch 30/200\n",
            "11/11 [==============================] - 0s 10ms/step - loss: 3.3049 - accuracy: 0.1121\n",
            "Epoch 31/200\n",
            "11/11 [==============================] - 0s 10ms/step - loss: 3.3225 - accuracy: 0.1030\n",
            "Epoch 32/200\n",
            "11/11 [==============================] - 0s 10ms/step - loss: 3.2562 - accuracy: 0.1394\n",
            "Epoch 33/200\n",
            "11/11 [==============================] - 0s 10ms/step - loss: 3.2068 - accuracy: 0.1727\n",
            "Epoch 34/200\n",
            "11/11 [==============================] - 0s 10ms/step - loss: 3.1655 - accuracy: 0.1273\n",
            "Epoch 35/200\n",
            "11/11 [==============================] - 0s 10ms/step - loss: 3.1581 - accuracy: 0.1636\n",
            "Epoch 36/200\n",
            "11/11 [==============================] - 0s 10ms/step - loss: 3.0935 - accuracy: 0.1545\n",
            "Epoch 37/200\n",
            "11/11 [==============================] - 0s 11ms/step - loss: 3.0445 - accuracy: 0.1848\n",
            "Epoch 38/200\n",
            "11/11 [==============================] - 0s 12ms/step - loss: 3.0155 - accuracy: 0.1818\n",
            "Epoch 39/200\n",
            "11/11 [==============================] - 0s 11ms/step - loss: 2.9580 - accuracy: 0.1848\n",
            "Epoch 40/200\n",
            "11/11 [==============================] - 0s 10ms/step - loss: 2.9140 - accuracy: 0.2030\n",
            "Epoch 41/200\n",
            "11/11 [==============================] - 0s 10ms/step - loss: 2.8842 - accuracy: 0.2152\n",
            "Epoch 42/200\n",
            "11/11 [==============================] - 0s 10ms/step - loss: 2.8210 - accuracy: 0.2364\n",
            "Epoch 43/200\n",
            "11/11 [==============================] - 0s 10ms/step - loss: 2.8357 - accuracy: 0.2091\n",
            "Epoch 44/200\n",
            "11/11 [==============================] - 0s 10ms/step - loss: 2.7443 - accuracy: 0.2121\n",
            "Epoch 45/200\n",
            "11/11 [==============================] - 0s 10ms/step - loss: 2.7200 - accuracy: 0.2424\n",
            "Epoch 46/200\n",
            "11/11 [==============================] - 0s 11ms/step - loss: 2.6883 - accuracy: 0.2455\n",
            "Epoch 47/200\n",
            "11/11 [==============================] - 0s 10ms/step - loss: 2.6612 - accuracy: 0.2455\n",
            "Epoch 48/200\n",
            "11/11 [==============================] - 0s 11ms/step - loss: 2.6269 - accuracy: 0.2364\n",
            "Epoch 49/200\n",
            "11/11 [==============================] - 0s 10ms/step - loss: 2.5815 - accuracy: 0.2758\n",
            "Epoch 50/200\n",
            "11/11 [==============================] - 0s 10ms/step - loss: 2.5216 - accuracy: 0.2727\n",
            "Epoch 51/200\n",
            "11/11 [==============================] - 0s 10ms/step - loss: 2.5172 - accuracy: 0.2788\n",
            "Epoch 52/200\n",
            "11/11 [==============================] - 0s 10ms/step - loss: 2.4730 - accuracy: 0.2909\n",
            "Epoch 53/200\n",
            "11/11 [==============================] - 0s 11ms/step - loss: 2.4041 - accuracy: 0.3273\n",
            "Epoch 54/200\n",
            "11/11 [==============================] - 0s 10ms/step - loss: 2.3648 - accuracy: 0.2879\n",
            "Epoch 55/200\n",
            "11/11 [==============================] - 0s 10ms/step - loss: 2.3272 - accuracy: 0.3364\n",
            "Epoch 56/200\n",
            "11/11 [==============================] - 0s 10ms/step - loss: 2.2982 - accuracy: 0.3333\n",
            "Epoch 57/200\n",
            "11/11 [==============================] - 0s 11ms/step - loss: 2.2683 - accuracy: 0.3152\n",
            "Epoch 58/200\n",
            "11/11 [==============================] - 0s 10ms/step - loss: 2.2231 - accuracy: 0.3152\n",
            "Epoch 59/200\n",
            "11/11 [==============================] - 0s 11ms/step - loss: 2.1948 - accuracy: 0.3545\n",
            "Epoch 60/200\n",
            "11/11 [==============================] - 0s 10ms/step - loss: 2.1952 - accuracy: 0.3667\n",
            "Epoch 61/200\n",
            "11/11 [==============================] - 0s 10ms/step - loss: 2.1646 - accuracy: 0.3667\n",
            "Epoch 62/200\n",
            "11/11 [==============================] - 0s 10ms/step - loss: 2.1374 - accuracy: 0.3606\n",
            "Epoch 63/200\n",
            "11/11 [==============================] - 0s 11ms/step - loss: 2.1267 - accuracy: 0.3424\n",
            "Epoch 64/200\n",
            "11/11 [==============================] - 0s 10ms/step - loss: 2.0855 - accuracy: 0.3939\n",
            "Epoch 65/200\n",
            "11/11 [==============================] - 0s 10ms/step - loss: 2.0501 - accuracy: 0.3970\n",
            "Epoch 66/200\n",
            "11/11 [==============================] - 0s 11ms/step - loss: 2.0060 - accuracy: 0.4121\n",
            "Epoch 67/200\n",
            "11/11 [==============================] - 0s 10ms/step - loss: 1.9865 - accuracy: 0.4030\n",
            "Epoch 68/200\n",
            "11/11 [==============================] - 0s 12ms/step - loss: 1.9956 - accuracy: 0.3788\n",
            "Epoch 69/200\n",
            "11/11 [==============================] - 0s 10ms/step - loss: 1.9341 - accuracy: 0.4212\n",
            "Epoch 70/200\n",
            "11/11 [==============================] - 0s 10ms/step - loss: 1.9263 - accuracy: 0.4424\n",
            "Epoch 71/200\n",
            "11/11 [==============================] - 0s 11ms/step - loss: 1.8986 - accuracy: 0.4606\n",
            "Epoch 72/200\n",
            "11/11 [==============================] - 0s 10ms/step - loss: 1.8584 - accuracy: 0.4424\n",
            "Epoch 73/200\n",
            "11/11 [==============================] - 0s 10ms/step - loss: 1.8269 - accuracy: 0.4727\n",
            "Epoch 74/200\n",
            "11/11 [==============================] - 0s 11ms/step - loss: 1.8005 - accuracy: 0.4606\n",
            "Epoch 75/200\n",
            "11/11 [==============================] - 0s 10ms/step - loss: 1.8116 - accuracy: 0.4636\n",
            "Epoch 76/200\n",
            "11/11 [==============================] - 0s 10ms/step - loss: 1.7667 - accuracy: 0.4636\n",
            "Epoch 77/200\n",
            "11/11 [==============================] - 0s 10ms/step - loss: 1.7501 - accuracy: 0.4727\n",
            "Epoch 78/200\n",
            "11/11 [==============================] - 0s 10ms/step - loss: 1.7392 - accuracy: 0.4788\n",
            "Epoch 79/200\n",
            "11/11 [==============================] - 0s 10ms/step - loss: 1.7038 - accuracy: 0.4939\n",
            "Epoch 80/200\n",
            "11/11 [==============================] - 0s 10ms/step - loss: 1.6689 - accuracy: 0.5000\n",
            "Epoch 81/200\n",
            "11/11 [==============================] - 0s 10ms/step - loss: 1.6428 - accuracy: 0.5273\n",
            "Epoch 82/200\n",
            "11/11 [==============================] - 0s 11ms/step - loss: 1.6556 - accuracy: 0.4939\n",
            "Epoch 83/200\n",
            "11/11 [==============================] - 0s 11ms/step - loss: 1.6366 - accuracy: 0.5000\n",
            "Epoch 84/200\n",
            "11/11 [==============================] - 0s 11ms/step - loss: 1.6250 - accuracy: 0.5303\n",
            "Epoch 85/200\n",
            "11/11 [==============================] - 0s 10ms/step - loss: 1.6064 - accuracy: 0.5182\n",
            "Epoch 86/200\n",
            "11/11 [==============================] - 0s 10ms/step - loss: 1.5801 - accuracy: 0.5152\n",
            "Epoch 87/200\n",
            "11/11 [==============================] - 0s 11ms/step - loss: 1.5440 - accuracy: 0.5212\n",
            "Epoch 88/200\n",
            "11/11 [==============================] - 0s 10ms/step - loss: 1.5597 - accuracy: 0.5364\n",
            "Epoch 89/200\n",
            "11/11 [==============================] - 0s 11ms/step - loss: 1.5295 - accuracy: 0.5242\n",
            "Epoch 90/200\n",
            "11/11 [==============================] - 0s 10ms/step - loss: 1.4584 - accuracy: 0.5909\n",
            "Epoch 91/200\n",
            "11/11 [==============================] - 0s 11ms/step - loss: 1.4902 - accuracy: 0.5606\n",
            "Epoch 92/200\n",
            "11/11 [==============================] - 0s 10ms/step - loss: 1.4467 - accuracy: 0.5727\n",
            "Epoch 93/200\n",
            "11/11 [==============================] - 0s 11ms/step - loss: 1.4660 - accuracy: 0.5364\n",
            "Epoch 94/200\n",
            "11/11 [==============================] - 0s 10ms/step - loss: 1.4628 - accuracy: 0.5788\n",
            "Epoch 95/200\n",
            "11/11 [==============================] - 0s 10ms/step - loss: 1.4193 - accuracy: 0.5970\n",
            "Epoch 96/200\n",
            "11/11 [==============================] - 0s 12ms/step - loss: 1.3852 - accuracy: 0.5848\n",
            "Epoch 97/200\n",
            "11/11 [==============================] - 0s 10ms/step - loss: 1.3730 - accuracy: 0.6030\n",
            "Epoch 98/200\n",
            "11/11 [==============================] - 0s 10ms/step - loss: 1.3526 - accuracy: 0.5939\n",
            "Epoch 99/200\n",
            "11/11 [==============================] - 0s 10ms/step - loss: 1.3311 - accuracy: 0.6000\n",
            "Epoch 100/200\n",
            "11/11 [==============================] - 0s 10ms/step - loss: 1.3540 - accuracy: 0.5970\n",
            "Epoch 101/200\n",
            "11/11 [==============================] - 0s 10ms/step - loss: 1.3466 - accuracy: 0.5909\n",
            "Epoch 102/200\n",
            "11/11 [==============================] - 0s 10ms/step - loss: 1.2560 - accuracy: 0.6273\n",
            "Epoch 103/200\n",
            "11/11 [==============================] - 0s 10ms/step - loss: 1.2747 - accuracy: 0.6000\n",
            "Epoch 104/200\n",
            "11/11 [==============================] - 0s 11ms/step - loss: 1.2621 - accuracy: 0.6394\n",
            "Epoch 105/200\n",
            "11/11 [==============================] - 0s 10ms/step - loss: 1.2593 - accuracy: 0.6152\n",
            "Epoch 106/200\n",
            "11/11 [==============================] - 0s 11ms/step - loss: 1.2462 - accuracy: 0.6303\n",
            "Epoch 107/200\n",
            "11/11 [==============================] - 0s 10ms/step - loss: 1.2077 - accuracy: 0.6303\n",
            "Epoch 108/200\n",
            "11/11 [==============================] - 0s 11ms/step - loss: 1.2183 - accuracy: 0.6182\n",
            "Epoch 109/200\n",
            "11/11 [==============================] - 0s 10ms/step - loss: 1.1968 - accuracy: 0.6152\n",
            "Epoch 110/200\n",
            "11/11 [==============================] - 0s 10ms/step - loss: 1.1879 - accuracy: 0.6212\n",
            "Epoch 111/200\n",
            "11/11 [==============================] - 0s 11ms/step - loss: 1.1645 - accuracy: 0.6455\n",
            "Epoch 112/200\n",
            "11/11 [==============================] - 0s 10ms/step - loss: 1.1608 - accuracy: 0.6485\n",
            "Epoch 113/200\n",
            "11/11 [==============================] - 0s 10ms/step - loss: 1.1286 - accuracy: 0.6788\n",
            "Epoch 114/200\n",
            "11/11 [==============================] - 0s 11ms/step - loss: 1.1393 - accuracy: 0.6545\n",
            "Epoch 115/200\n",
            "11/11 [==============================] - 0s 10ms/step - loss: 1.1258 - accuracy: 0.6879\n",
            "Epoch 116/200\n",
            "11/11 [==============================] - 0s 10ms/step - loss: 1.1043 - accuracy: 0.6758\n",
            "Epoch 117/200\n",
            "11/11 [==============================] - 0s 11ms/step - loss: 1.0800 - accuracy: 0.6788\n",
            "Epoch 118/200\n",
            "11/11 [==============================] - 0s 10ms/step - loss: 1.0845 - accuracy: 0.6606\n",
            "Epoch 119/200\n",
            "11/11 [==============================] - 0s 11ms/step - loss: 1.0636 - accuracy: 0.6697\n",
            "Epoch 120/200\n",
            "11/11 [==============================] - 0s 10ms/step - loss: 1.0738 - accuracy: 0.6818\n",
            "Epoch 121/200\n",
            "11/11 [==============================] - 0s 11ms/step - loss: 1.0237 - accuracy: 0.7091\n",
            "Epoch 122/200\n",
            "11/11 [==============================] - 0s 10ms/step - loss: 1.0248 - accuracy: 0.6909\n",
            "Epoch 123/200\n",
            "11/11 [==============================] - 0s 10ms/step - loss: 1.0587 - accuracy: 0.6606\n",
            "Epoch 124/200\n",
            "11/11 [==============================] - 0s 10ms/step - loss: 1.0302 - accuracy: 0.6970\n",
            "Epoch 125/200\n",
            "11/11 [==============================] - 0s 11ms/step - loss: 1.0327 - accuracy: 0.6667\n",
            "Epoch 126/200\n",
            "11/11 [==============================] - 0s 10ms/step - loss: 1.0071 - accuracy: 0.6818\n",
            "Epoch 127/200\n",
            "11/11 [==============================] - 0s 11ms/step - loss: 0.9847 - accuracy: 0.7091\n",
            "Epoch 128/200\n",
            "11/11 [==============================] - 0s 10ms/step - loss: 0.9878 - accuracy: 0.7152\n",
            "Epoch 129/200\n",
            "11/11 [==============================] - 0s 11ms/step - loss: 0.9699 - accuracy: 0.6939\n",
            "Epoch 130/200\n",
            "11/11 [==============================] - 0s 10ms/step - loss: 0.9662 - accuracy: 0.6788\n",
            "Epoch 131/200\n",
            "11/11 [==============================] - 0s 10ms/step - loss: 0.9212 - accuracy: 0.7030\n",
            "Epoch 132/200\n",
            "11/11 [==============================] - 0s 11ms/step - loss: 0.9226 - accuracy: 0.7364\n",
            "Epoch 133/200\n",
            "11/11 [==============================] - 0s 10ms/step - loss: 0.9132 - accuracy: 0.7152\n",
            "Epoch 134/200\n",
            "11/11 [==============================] - 0s 10ms/step - loss: 0.9265 - accuracy: 0.7030\n",
            "Epoch 135/200\n",
            "11/11 [==============================] - 0s 10ms/step - loss: 0.9026 - accuracy: 0.7182\n",
            "Epoch 136/200\n",
            "11/11 [==============================] - 0s 10ms/step - loss: 0.9048 - accuracy: 0.7273\n",
            "Epoch 137/200\n",
            "11/11 [==============================] - 0s 10ms/step - loss: 0.8761 - accuracy: 0.7182\n",
            "Epoch 138/200\n",
            "11/11 [==============================] - 0s 11ms/step - loss: 0.8954 - accuracy: 0.7303\n",
            "Epoch 139/200\n",
            "11/11 [==============================] - 0s 11ms/step - loss: 0.8825 - accuracy: 0.7061\n",
            "Epoch 140/200\n",
            "11/11 [==============================] - 0s 11ms/step - loss: 0.8664 - accuracy: 0.7212\n",
            "Epoch 141/200\n",
            "11/11 [==============================] - 0s 11ms/step - loss: 0.8522 - accuracy: 0.7636\n",
            "Epoch 142/200\n",
            "11/11 [==============================] - 0s 11ms/step - loss: 0.8644 - accuracy: 0.7303\n",
            "Epoch 143/200\n",
            "11/11 [==============================] - 0s 11ms/step - loss: 0.8319 - accuracy: 0.7424\n",
            "Epoch 144/200\n",
            "11/11 [==============================] - 0s 10ms/step - loss: 0.8640 - accuracy: 0.7212\n",
            "Epoch 145/200\n",
            "11/11 [==============================] - 0s 11ms/step - loss: 0.8449 - accuracy: 0.7394\n",
            "Epoch 146/200\n",
            "11/11 [==============================] - 0s 10ms/step - loss: 0.8161 - accuracy: 0.7333\n",
            "Epoch 147/200\n",
            "11/11 [==============================] - 0s 11ms/step - loss: 0.8281 - accuracy: 0.7485\n",
            "Epoch 148/200\n",
            "11/11 [==============================] - 0s 11ms/step - loss: 0.7916 - accuracy: 0.7636\n",
            "Epoch 149/200\n",
            "11/11 [==============================] - 0s 11ms/step - loss: 0.8137 - accuracy: 0.7394\n",
            "Epoch 150/200\n",
            "11/11 [==============================] - 0s 10ms/step - loss: 0.7805 - accuracy: 0.7364\n",
            "Epoch 151/200\n",
            "11/11 [==============================] - 0s 10ms/step - loss: 0.7891 - accuracy: 0.7576\n",
            "Epoch 152/200\n",
            "11/11 [==============================] - 0s 10ms/step - loss: 0.7812 - accuracy: 0.7515\n",
            "Epoch 153/200\n",
            "11/11 [==============================] - 0s 10ms/step - loss: 0.7803 - accuracy: 0.7545\n",
            "Epoch 154/200\n",
            "11/11 [==============================] - 0s 10ms/step - loss: 0.7718 - accuracy: 0.7576\n",
            "Epoch 155/200\n",
            "11/11 [==============================] - 0s 10ms/step - loss: 0.7515 - accuracy: 0.7697\n",
            "Epoch 156/200\n",
            "11/11 [==============================] - 0s 11ms/step - loss: 0.7535 - accuracy: 0.7515\n",
            "Epoch 157/200\n",
            "11/11 [==============================] - 0s 10ms/step - loss: 0.7499 - accuracy: 0.7606\n",
            "Epoch 158/200\n",
            "11/11 [==============================] - 0s 11ms/step - loss: 0.7424 - accuracy: 0.7545\n",
            "Epoch 159/200\n",
            "11/11 [==============================] - 0s 10ms/step - loss: 0.7357 - accuracy: 0.7636\n",
            "Epoch 160/200\n",
            "11/11 [==============================] - 0s 11ms/step - loss: 0.7161 - accuracy: 0.7818\n",
            "Epoch 161/200\n",
            "11/11 [==============================] - 0s 10ms/step - loss: 0.7117 - accuracy: 0.7879\n",
            "Epoch 162/200\n",
            "11/11 [==============================] - 0s 11ms/step - loss: 0.7243 - accuracy: 0.7758\n",
            "Epoch 163/200\n",
            "11/11 [==============================] - 0s 10ms/step - loss: 0.7105 - accuracy: 0.7545\n",
            "Epoch 164/200\n",
            "11/11 [==============================] - 0s 12ms/step - loss: 0.7053 - accuracy: 0.7818\n",
            "Epoch 165/200\n",
            "11/11 [==============================] - 0s 11ms/step - loss: 0.7040 - accuracy: 0.7727\n",
            "Epoch 166/200\n",
            "11/11 [==============================] - 0s 9ms/step - loss: 0.6883 - accuracy: 0.8121\n",
            "Epoch 167/200\n",
            "11/11 [==============================] - 0s 10ms/step - loss: 0.6754 - accuracy: 0.7818\n",
            "Epoch 168/200\n",
            "11/11 [==============================] - 0s 11ms/step - loss: 0.6824 - accuracy: 0.7697\n",
            "Epoch 169/200\n",
            "11/11 [==============================] - 0s 10ms/step - loss: 0.6738 - accuracy: 0.8061\n",
            "Epoch 170/200\n",
            "11/11 [==============================] - 0s 10ms/step - loss: 0.6846 - accuracy: 0.8030\n",
            "Epoch 171/200\n",
            "11/11 [==============================] - 0s 10ms/step - loss: 0.6679 - accuracy: 0.7879\n",
            "Epoch 172/200\n",
            "11/11 [==============================] - 0s 10ms/step - loss: 0.6707 - accuracy: 0.7636\n",
            "Epoch 173/200\n",
            "11/11 [==============================] - 0s 11ms/step - loss: 0.6630 - accuracy: 0.7909\n",
            "Epoch 174/200\n",
            "11/11 [==============================] - 0s 10ms/step - loss: 0.6488 - accuracy: 0.8000\n",
            "Epoch 175/200\n",
            "11/11 [==============================] - 0s 10ms/step - loss: 0.6335 - accuracy: 0.7939\n",
            "Epoch 176/200\n",
            "11/11 [==============================] - 0s 11ms/step - loss: 0.6126 - accuracy: 0.8091\n",
            "Epoch 177/200\n",
            "11/11 [==============================] - 0s 11ms/step - loss: 0.6433 - accuracy: 0.7848\n",
            "Epoch 178/200\n",
            "11/11 [==============================] - 0s 11ms/step - loss: 0.6287 - accuracy: 0.7970\n",
            "Epoch 179/200\n",
            "11/11 [==============================] - 0s 11ms/step - loss: 0.6238 - accuracy: 0.8273\n",
            "Epoch 180/200\n",
            "11/11 [==============================] - 0s 10ms/step - loss: 0.6265 - accuracy: 0.8152\n",
            "Epoch 181/200\n",
            "11/11 [==============================] - 0s 11ms/step - loss: 0.6468 - accuracy: 0.7818\n",
            "Epoch 182/200\n",
            "11/11 [==============================] - 0s 10ms/step - loss: 0.5904 - accuracy: 0.8394\n",
            "Epoch 183/200\n",
            "11/11 [==============================] - 0s 10ms/step - loss: 0.5918 - accuracy: 0.8152\n",
            "Epoch 184/200\n",
            "11/11 [==============================] - 0s 10ms/step - loss: 0.6077 - accuracy: 0.7879\n",
            "Epoch 185/200\n",
            "11/11 [==============================] - 0s 10ms/step - loss: 0.5770 - accuracy: 0.8364\n",
            "Epoch 186/200\n",
            "11/11 [==============================] - 0s 10ms/step - loss: 0.5845 - accuracy: 0.8273\n",
            "Epoch 187/200\n",
            "11/11 [==============================] - 0s 10ms/step - loss: 0.5589 - accuracy: 0.8273\n",
            "Epoch 188/200\n",
            "11/11 [==============================] - 0s 11ms/step - loss: 0.5725 - accuracy: 0.8152\n",
            "Epoch 189/200\n",
            "11/11 [==============================] - 0s 11ms/step - loss: 0.5696 - accuracy: 0.8152\n",
            "Epoch 190/200\n",
            "11/11 [==============================] - 0s 10ms/step - loss: 0.5664 - accuracy: 0.8394\n",
            "Epoch 191/200\n",
            "11/11 [==============================] - 0s 10ms/step - loss: 0.5843 - accuracy: 0.7939\n",
            "Epoch 192/200\n",
            "11/11 [==============================] - 0s 11ms/step - loss: 0.5663 - accuracy: 0.8182\n",
            "Epoch 193/200\n",
            "11/11 [==============================] - 0s 10ms/step - loss: 0.5777 - accuracy: 0.8424\n",
            "Epoch 194/200\n",
            "11/11 [==============================] - 0s 11ms/step - loss: 0.5783 - accuracy: 0.8152\n",
            "Epoch 195/200\n",
            "11/11 [==============================] - 0s 10ms/step - loss: 0.5329 - accuracy: 0.8333\n",
            "Epoch 196/200\n",
            "11/11 [==============================] - 0s 11ms/step - loss: 0.5603 - accuracy: 0.8364\n",
            "Epoch 197/200\n",
            "11/11 [==============================] - 0s 10ms/step - loss: 0.5417 - accuracy: 0.8212\n",
            "Epoch 198/200\n",
            "11/11 [==============================] - 0s 10ms/step - loss: 0.5420 - accuracy: 0.8394\n",
            "Epoch 199/200\n",
            "11/11 [==============================] - 0s 10ms/step - loss: 0.5406 - accuracy: 0.8394\n",
            "Epoch 200/200\n",
            "11/11 [==============================] - 0s 11ms/step - loss: 0.5238 - accuracy: 0.8455\n"
          ]
        }
      ],
      "source": [
        "train = model.fit(x_train, y_train, epochs=200)"
      ]
    },
    {
      "cell_type": "code",
      "execution_count": 19,
      "metadata": {
        "colab": {
          "base_uri": "https://localhost:8080/",
          "height": 283
        },
        "id": "Tun-lFwyGvA5",
        "outputId": "a037b564-739b-499e-fa06-d2dee95470ea"
      },
      "outputs": [
        {
          "data": {
            "text/plain": [
              "<matplotlib.legend.Legend at 0x28c8cb7b7f0>"
            ]
          },
          "execution_count": 19,
          "metadata": {},
          "output_type": "execute_result"
        },
        {
          "data": {
            "image/png": "[encoded data removed]",
            "text/plain": [
              "<Figure size 432x288 with 1 Axes>"
            ]
          },
          "metadata": {
            "needs_background": "light"
          },
          "output_type": "display_data"
        }
      ],
      "source": [
        "plt.plot(train.history['accuracy'], label='training set accuracy')\n",
        "plt.plot(train.history['loss'], label='trainig set loss')\n",
        "plt.legend()"
      ]
    },
    {
      "cell_type": "code",
      "execution_count": 21,
      "metadata": {
        "colab": {
          "base_uri": "https://localhost:8080/",
          "height": 661
        },
        "id": "xf4pnvfjsgHm",
        "outputId": "7cc51a23-181b-44b9-ca84-c45d9b719760"
      },
      "outputs": [
        {
          "name": "stdout",
          "output_type": "stream",
          "text": [
            "You must install pydot (`pip install pydot`) and install graphviz (see instructions at https://graphviz.gitlab.io/download/) for plot_model/model_to_dot to work.\n"
          ]
        }
      ],
      "source": [
        "tf.keras.utils.plot_model(model)"
      ]
    },
    {
      "cell_type": "markdown",
      "metadata": {
        "id": "R3Otx0zNjQ-X"
      },
      "source": [
        "#Chatbot 🤖"
      ]
    },
    {
      "cell_type": "code",
      "execution_count": 20,
      "metadata": {
        "colab": {
          "base_uri": "https://localhost:8080/"
        },
        "id": "93Pjw-gEje9a",
        "outputId": "a164871f-31f1-4594-b491-89846d2ce4c1"
      },
      "outputs": [
        {
          "name": "stdout",
          "output_type": "stream",
          "text": [
            "1/1 [==============================] - 0s 431ms/step\n",
            "response=greeting\n",
            "Pocket Therapist:  Great to see you. How do you feel currently?\n",
            "1/1 [==============================] - 0s 15ms/step\n",
            "response=about\n",
            "Pocket Therapist:  You can call me MindMate.\n",
            "1/1 [==============================] - 0s 16ms/step\n",
            "response=about\n",
            "Pocket Therapist:  I'm MindMate. I am a conversational agent designed to mimic a therapist. So how are you feeling today?\n",
            "1/1 [==============================] - 0s 12ms/step\n",
            "response=casual\n",
            "Pocket Therapist:  Tell me more\n",
            "1/1 [==============================] - 0s 15ms/step\n",
            "response=casual\n",
            "Pocket Therapist:  Come elucidate your thoughts\n",
            "1/1 [==============================] - 0s 14ms/step\n",
            "response=casual\n",
            "Pocket Therapist:  How were you feeling last week?\n",
            "1/1 [==============================] - 0s 13ms/step\n",
            "response=casual\n",
            "Pocket Therapist:  Tell me more\n",
            "1/1 [==============================] - 0s 13ms/step\n",
            "response=casual\n",
            "Pocket Therapist:  I'm listening. Please go on.\n"
          ]
        },
        {
          "ename": "KeyboardInterrupt",
          "evalue": "Interrupted by user",
          "output_type": "error",
          "traceback": [
            "\u001b[1;31m---------------------------------------------------------------------------\u001b[0m",
            "\u001b[1;31mKeyboardInterrupt\u001b[0m                         Traceback (most recent call last)",
            "\u001b[1;32m~\\AppData\\Local\\Temp/ipykernel_18300/2943926275.py\u001b[0m in \u001b[0;36m<module>\u001b[1;34m\u001b[0m\n\u001b[0;32m      1\u001b[0m \u001b[1;32mwhile\u001b[0m \u001b[1;32mTrue\u001b[0m\u001b[1;33m:\u001b[0m\u001b[1;33m\u001b[0m\u001b[1;33m\u001b[0m\u001b[0m\n\u001b[0;32m      2\u001b[0m   \u001b[0mconversation\u001b[0m \u001b[1;33m=\u001b[0m \u001b[1;33m[\u001b[0m\u001b[1;33m]\u001b[0m\u001b[1;33m\u001b[0m\u001b[1;33m\u001b[0m\u001b[0m\n\u001b[1;32m----> 3\u001b[1;33m   \u001b[0muser_input\u001b[0m \u001b[1;33m=\u001b[0m \u001b[0minput\u001b[0m\u001b[1;33m(\u001b[0m\u001b[1;34m'User: '\u001b[0m\u001b[1;33m)\u001b[0m\u001b[1;33m\u001b[0m\u001b[1;33m\u001b[0m\u001b[0m\n\u001b[0m\u001b[0;32m      4\u001b[0m   \u001b[1;32mif\u001b[0m \u001b[0muser_input\u001b[0m \u001b[1;33m==\u001b[0m \u001b[1;34m'bye'\u001b[0m\u001b[1;33m:\u001b[0m\u001b[1;33m\u001b[0m\u001b[1;33m\u001b[0m\u001b[0m\n\u001b[0;32m      5\u001b[0m     \u001b[0mprint\u001b[0m\u001b[1;33m(\u001b[0m\u001b[1;34m'Goodbye and take care.'\u001b[0m\u001b[1;33m)\u001b[0m\u001b[1;33m\u001b[0m\u001b[1;33m\u001b[0m\u001b[0m\n",
            "\u001b[1;32mc:\\Users\\sdonthi\\AppData\\Local\\Programs\\Python\\Python310\\lib\\site-packages\\ipykernel\\kernelbase.py\u001b[0m in \u001b[0;36mraw_input\u001b[1;34m(self, prompt)\u001b[0m\n\u001b[0;32m   1004\u001b[0m                 \u001b[1;34m\"raw_input was called, but this frontend does not support input requests.\"\u001b[0m\u001b[1;33m\u001b[0m\u001b[1;33m\u001b[0m\u001b[0m\n\u001b[0;32m   1005\u001b[0m             )\n\u001b[1;32m-> 1006\u001b[1;33m         return self._input_request(\n\u001b[0m\u001b[0;32m   1007\u001b[0m             \u001b[0mstr\u001b[0m\u001b[1;33m(\u001b[0m\u001b[0mprompt\u001b[0m\u001b[1;33m)\u001b[0m\u001b[1;33m,\u001b[0m\u001b[1;33m\u001b[0m\u001b[1;33m\u001b[0m\u001b[0m\n\u001b[0;32m   1008\u001b[0m             \u001b[0mself\u001b[0m\u001b[1;33m.\u001b[0m\u001b[0m_parent_ident\u001b[0m\u001b[1;33m[\u001b[0m\u001b[1;34m\"shell\"\u001b[0m\u001b[1;33m]\u001b[0m\u001b[1;33m,\u001b[0m\u001b[1;33m\u001b[0m\u001b[1;33m\u001b[0m\u001b[0m\n",
            "\u001b[1;32mc:\\Users\\sdonthi\\AppData\\Local\\Programs\\Python\\Python310\\lib\\site-packages\\ipykernel\\kernelbase.py\u001b[0m in \u001b[0;36m_input_request\u001b[1;34m(self, prompt, ident, parent, password)\u001b[0m\n\u001b[0;32m   1049\u001b[0m             \u001b[1;32mexcept\u001b[0m \u001b[0mKeyboardInterrupt\u001b[0m\u001b[1;33m:\u001b[0m\u001b[1;33m\u001b[0m\u001b[1;33m\u001b[0m\u001b[0m\n\u001b[0;32m   1050\u001b[0m                 \u001b[1;31m# re-raise KeyboardInterrupt, to truncate traceback\u001b[0m\u001b[1;33m\u001b[0m\u001b[1;33m\u001b[0m\u001b[0m\n\u001b[1;32m-> 1051\u001b[1;33m                 \u001b[1;32mraise\u001b[0m \u001b[0mKeyboardInterrupt\u001b[0m\u001b[1;33m(\u001b[0m\u001b[1;34m\"Interrupted by user\"\u001b[0m\u001b[1;33m)\u001b[0m \u001b[1;32mfrom\u001b[0m \u001b[1;32mNone\u001b[0m\u001b[1;33m\u001b[0m\u001b[1;33m\u001b[0m\u001b[0m\n\u001b[0m\u001b[0;32m   1052\u001b[0m             \u001b[1;32mexcept\u001b[0m \u001b[0mException\u001b[0m\u001b[1;33m:\u001b[0m\u001b[1;33m\u001b[0m\u001b[1;33m\u001b[0m\u001b[0m\n\u001b[0;32m   1053\u001b[0m                 \u001b[0mself\u001b[0m\u001b[1;33m.\u001b[0m\u001b[0mlog\u001b[0m\u001b[1;33m.\u001b[0m\u001b[0mwarning\u001b[0m\u001b[1;33m(\u001b[0m\u001b[1;34m\"Invalid Message:\"\u001b[0m\u001b[1;33m,\u001b[0m \u001b[0mexc_info\u001b[0m\u001b[1;33m=\u001b[0m\u001b[1;32mTrue\u001b[0m\u001b[1;33m)\u001b[0m\u001b[1;33m\u001b[0m\u001b[1;33m\u001b[0m\u001b[0m\n",
            "\u001b[1;31mKeyboardInterrupt\u001b[0m: Interrupted by user"
          ]
        }
      ],
      "source": [
        "while True:\n",
        "  conversation = []\n",
        "  user_input = input('User: ')\n",
        "  if user_input == 'bye':\n",
        "    print('Goodbye and take care.')\n",
        "    break\n",
        "\n",
        "  # converting lowercase / removing punctuation \n",
        "  user_input = user_input.lower()\n",
        "  user_input = re.sub(r'[^\\w\\s]', '', user_input)\n",
        "  conversation.append(user_input)\n",
        "\n",
        "  # tokenizer / padding\n",
        "  user_input = tokenizer.texts_to_sequences(conversation)\n",
        "  user_input = np.array(user_input).reshape(-1)\n",
        "  user_input = pad_sequences([user_input], input_size)\n",
        "\n",
        "  # output\n",
        "  output = model.predict(user_input)\n",
        "  output = output.argmax()\n",
        "\n",
        "  # prediction\n",
        "  response = encoder.inverse_transform([output])[0]\n",
        "  print('response=' + response)\n",
        "  if response in responses:\n",
        "    print('Pocket Therapist: ', random.choice(responses[response]))\n",
        "  else:\n",
        "    print('Sorry, I do not understand. Can you please rephrase?')\n",
        "  if response == 'goodbye':\n",
        "    break"
      ]
    },
    {
      "cell_type": "code",
      "execution_count": null,
      "metadata": {},
      "outputs": [],
      "source": [
        "model.save('mindmate_model.h5')"
      ]
    },
    {
      "cell_type": "code",
      "execution_count": 22,
      "metadata": {},
      "outputs": [],
      "source": [
        "import os\n",
        "from tensorflow import keras\n",
        "# loading\n",
        "#my_dir = os.path.dirname(__file__)\n",
        "tokenizer1 = None\n",
        "#model_path = os.path.join(my_dir, 'mindmate_model.h5')\n",
        "with open('tokenizer.pkl', 'rb') as handle:\n",
        "    tokenizer1 = pickle.load(handle)\n",
        "\n",
        "#model_path = os.path.join(my_dir, 'mindmate_model.h5')\n",
        "pkl_file = open('encoder.pkl', 'rb')\n",
        "le = pickle.load(pkl_file) \n",
        "pkl_file.close()\n",
        "\n",
        "#model_path = os.path.join(my_dir, 'mindmate_model.h5')\n",
        "model = keras.models.load_model('mindmate_model.h5')"
      ]
    },
    {
      "cell_type": "code",
      "execution_count": 23,
      "metadata": {},
      "outputs": [
        {
          "name": "stdout",
          "output_type": "stream",
          "text": [
            "1/1 [==============================] - 0s 421ms/step\n",
            "response=greeting\n",
            "Pocket Therapist:  Hello there. Glad to see you're back. What's going on in your world right now?\n",
            "1/1 [==============================] - 0s 15ms/step\n",
            "response=greeting\n",
            "Pocket Therapist:  Hello there. Tell me how are you feeling today?\n",
            "1/1 [==============================] - 0s 16ms/step\n",
            "response=about\n",
            "Pocket Therapist:  I'm MindMate, your Personal Therapeutic AI Assistant. How are you feeling today\n",
            "Goodbye and take care.\n"
          ]
        }
      ],
      "source": [
        "while True:\n",
        "  conversation = []\n",
        "  input_size=21\n",
        "  output_size=166\n",
        "  user_input = input('User: ')\n",
        "  if user_input == 'bye':\n",
        "    print('Goodbye and take care.')\n",
        "    break\n",
        "\n",
        "  # converting lowercase / removing punctuation \n",
        "  user_input = user_input.lower()\n",
        "  user_input = re.sub(r'[^\\w\\s]', '', user_input)\n",
        "  conversation.append(user_input)\n",
        "\n",
        "  # tokenizer / padding\n",
        "  user_input = tokenizer1.texts_to_sequences(conversation)\n",
        "  user_input = np.array(user_input).reshape(-1)\n",
        "  user_input = pad_sequences([user_input], input_size)\n",
        "\n",
        "  # output\n",
        "  output = model.predict(user_input)\n",
        "  output = output.argmax()\n",
        "\n",
        "  # prediction\n",
        "  response = le.inverse_transform([output])[0]\n",
        "  print('response=' + response)\n",
        "  if response in responses:\n",
        "    print('Pocket Therapist: ', random.choice(responses[response]))\n",
        "  else:\n",
        "    print('Sorry, I do not understand. Can you please rephrase?')\n",
        "  if response == 'goodbye':\n",
        "    break"
      ]
    }
  ],
  "metadata": {
    "colab": {
      "authorship_tag": "ABX9TyMfj1S++BgK4adIe4e88ScI",
      "include_colab_link": true,
      "provenance": []
    },
    "kernelspec": {
      "display_name": "Python 3",
      "language": "python",
      "name": "python3"
    },
    "language_info": {
      "codemirror_mode": {
        "name": "ipython",
        "version": 3
      },
      "file_extension": ".py",
      "mimetype": "text/x-python",
      "name": "python",
      "nbconvert_exporter": "python",
      "pygments_lexer": "ipython3",
      "version": "3.10.6"
    },
    "vscode": {
      "interpreter": {
        "hash": "dc40aa98bc857e6b44b78fb1f886858e51ffa17b4908ef3c7ccadfa45af47b27"
      }
    }
  },
  "nbformat": 4,
  "nbformat_minor": 0
}

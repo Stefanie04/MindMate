{
  "cells": [
    {
      "cell_type": "markdown",
      "metadata": {
        "colab_type": "text",
        "id": "view-in-github"
      },
      "source": [
        "<a href=\"https://colab.research.google.com/github/Stefanie04/MindMate/blob/main/Notebook_Stefanie.ipynb\" target=\"_parent\"><img src=\"https://colab.research.google.com/assets/colab-badge.svg\" alt=\"Open In Colab\"/></a>"
      ]
    },
    {
      "cell_type": "markdown",
      "metadata": {
        "id": "ztUshbsm_kZa"
      },
      "source": [
        "# Start ▶"
      ]
    },
    {
      "cell_type": "code",
      "execution_count": 1,
      "metadata": {
        "colab": {
          "base_uri": "https://localhost:8080/"
        },
        "id": "8FWRTQc9_eHj",
        "outputId": "ff214da6-bfa5-416e-bbd0-151182e04acb"
      },
      "outputs": [
        {
          "name": "stderr",
          "output_type": "stream",
          "text": [
            "[nltk_data] Downloading package punkt to\n",
            "[nltk_data]     C:\\Users\\sdonthi\\AppData\\Roaming\\nltk_data...\n",
            "[nltk_data]   Package punkt is already up-to-date!\n"
          ]
        },
        {
          "data": {
            "text/plain": [
              "True"
            ]
          },
          "execution_count": 1,
          "metadata": {},
          "output_type": "execute_result"
        }
      ],
      "source": [
        "import pandas as pd\n",
        "import numpy as np\n",
        "import matplotlib.pyplot as plt\n",
        "from datetime import datetime, date\n",
        "#from google.colab import drive\n",
        "#drive.mount('/content/drive')\n",
        "\n",
        "import json\n",
        "\n",
        "import io\n",
        "import re\n",
        "import random\n",
        "import string\n",
        "import tqdm\n",
        "\n",
        "import tensorflow as tf\n",
        "from tensorflow.keras import layers\n",
        "\n",
        "import nltk\n",
        "nltk.download('punkt')"
      ]
    },
    {
      "cell_type": "code",
      "execution_count": 3,
      "metadata": {
        "id": "weJWzjDZ_qNu"
      },
      "outputs": [],
      "source": [
        "with open('Dataset/intents-rev2.json', 'r') as f:\n",
        "    json_string = f.read()"
      ]
    },
    {
      "cell_type": "markdown",
      "metadata": {
        "id": "Bfy0p3N6_6VS"
      },
      "source": [
        "# Preperation of the dataset 🚧"
      ]
    },
    {
      "cell_type": "code",
      "execution_count": 4,
      "metadata": {
        "id": "7M5rMZsbACxS"
      },
      "outputs": [],
      "source": [
        "json_dict = json.loads(json_string)\n",
        "intents = json_dict['intents']"
      ]
    },
    {
      "cell_type": "code",
      "execution_count": 5,
      "metadata": {
        "id": "4VTv7tx_AFr6"
      },
      "outputs": [],
      "source": [
        "df =pd.DataFrame(intents)"
      ]
    },
    {
      "cell_type": "code",
      "execution_count": 6,
      "metadata": {
        "id": "ny-qKe6LAHp-"
      },
      "outputs": [],
      "source": [
        "tags = []\n",
        "patterns = []\n",
        "responses = {}\n",
        "for intents in json_dict['intents']:\n",
        "    responses[intents['tag']]=intents['responses']\n",
        "    for lines in intents['patterns']:\n",
        "      patterns.append(lines)\n",
        "      tags.append(intents['tag'])"
      ]
    },
    {
      "cell_type": "code",
      "execution_count": 7,
      "metadata": {
        "id": "R4TbQnACASZO"
      },
      "outputs": [],
      "source": [
        "json_df = pd.DataFrame({'tags':tags, 'patterns':patterns})"
      ]
    },
    {
      "cell_type": "code",
      "execution_count": 8,
      "metadata": {
        "id": "SmdjoEL8M49y"
      },
      "outputs": [],
      "source": [
        "pd.set_option('display.max_rows', json_df.shape[0]+1)"
      ]
    },
    {
      "cell_type": "code",
      "execution_count": 9,
      "metadata": {
        "colab": {
          "base_uri": "https://localhost:8080/"
        },
        "id": "sJk2ZzRTAUpM",
        "outputId": "f65207e5-32bd-4fc4-eb57-800ec3f8e05e"
      },
      "outputs": [
        {
          "data": {
            "text/plain": [
              "0                                               greeting\n",
              "1                                               greeting\n",
              "2                                               greeting\n",
              "3                                               greeting\n",
              "4                                               greeting\n",
              "5                                               greeting\n",
              "6                                               greeting\n",
              "7                                               greeting\n",
              "8                                               greeting\n",
              "9                                               greeting\n",
              "10                                              greeting\n",
              "11                                              greeting\n",
              "12                                               morning\n",
              "13                                             afternoon\n",
              "14                                               evening\n",
              "15                                                 night\n",
              "16                                               goodbye\n",
              "17                                               goodbye\n",
              "18                                               goodbye\n",
              "19                                               goodbye\n",
              "20                                               goodbye\n",
              "21                                               goodbye\n",
              "22                                               goodbye\n",
              "23                                               goodbye\n",
              "24                                                thanks\n",
              "25                                                thanks\n",
              "26                                                thanks\n",
              "27                                                thanks\n",
              "28                                                thanks\n",
              "29                                            noresponse\n",
              "30                                       neutralresponse\n",
              "31                                                 about\n",
              "32                                                 about\n",
              "33                                                 about\n",
              "34                                                 about\n",
              "35                                                 about\n",
              "36                                                 about\n",
              "37                                                 about\n",
              "38                                                 about\n",
              "39                                                 skill\n",
              "40                                              creation\n",
              "41                                              creation\n",
              "42                                              creation\n",
              "43                                                  name\n",
              "44                                                  name\n",
              "45                                                  name\n",
              "46                                                  help\n",
              "47                                                  help\n",
              "48                                                  help\n",
              "49                                                  help\n",
              "50                                                  help\n",
              "51                                                  help\n",
              "52                                                  help\n",
              "53                                                   sad\n",
              "54                                                   sad\n",
              "55                                                   sad\n",
              "56                                                   sad\n",
              "57                                                   sad\n",
              "58                                                   sad\n",
              "59                                                   sad\n",
              "60                                                   sad\n",
              "61                                              stressed\n",
              "62                                              stressed\n",
              "63                                              stressed\n",
              "64                                              stressed\n",
              "65                                              stressed\n",
              "66                                             worthless\n",
              "67                                             worthless\n",
              "68                                             worthless\n",
              "69                                             worthless\n",
              "70                                             worthless\n",
              "71                                             depressed\n",
              "72                                             depressed\n",
              "73                                             depressed\n",
              "74                                             depressed\n",
              "75                                                 happy\n",
              "76                                                 happy\n",
              "77                                                 happy\n",
              "78                                                 happy\n",
              "79                                                 happy\n",
              "80                                                 happy\n",
              "81                                                 happy\n",
              "82                                                casual\n",
              "83                                                casual\n",
              "84                                                casual\n",
              "85                                                casual\n",
              "86                                                casual\n",
              "87                                                casual\n",
              "88                                                casual\n",
              "89                                                casual\n",
              "90                                                casual\n",
              "91                                                casual\n",
              "92                                                casual\n",
              "93                                               anxious\n",
              "94                                               anxious\n",
              "95                                            nottalking\n",
              "96                                            nottalking\n",
              "97                                            nottalking\n",
              "98                                            nottalking\n",
              "99                                                 sleep\n",
              "100                                                sleep\n",
              "101                                                sleep\n",
              "102                                                sleep\n",
              "103                                                sleep\n",
              "104                                                sleep\n",
              "105                                               scared\n",
              "106                                               scared\n",
              "107                                               scared\n",
              "108                                               scared\n",
              "109                                                death\n",
              "110                                                death\n",
              "111                                                death\n",
              "112                                                death\n",
              "113                                                death\n",
              "114                                                death\n",
              "115                                           understand\n",
              "116                                           understand\n",
              "117                                           understand\n",
              "118                                           understand\n",
              "119                                           understand\n",
              "120                                           understand\n",
              "121                                                 done\n",
              "122                                                 done\n",
              "123                                                 done\n",
              "124                                                 done\n",
              "125                                                 done\n",
              "126                                              suicide\n",
              "127                                              suicide\n",
              "128                                              suicide\n",
              "129                                              suicide\n",
              "130                                              suicide\n",
              "131                                              hateyou\n",
              "132                                              hateyou\n",
              "133                                              hateyou\n",
              "134                                               hateme\n",
              "135                                               hateme\n",
              "136                                               hateme\n",
              "137                                              default\n",
              "138                                              default\n",
              "139                                              default\n",
              "140                                              default\n",
              "141                                              default\n",
              "142                                              default\n",
              "143                                              default\n",
              "144                                              default\n",
              "145                                                jokes\n",
              "146                                                jokes\n",
              "147                                               repeat\n",
              "148                                               repeat\n",
              "149                                               repeat\n",
              "150                                                wrong\n",
              "151                                                wrong\n",
              "152                                                wrong\n",
              "153                                                wrong\n",
              "154                                               stupid\n",
              "155                                               stupid\n",
              "156                                               stupid\n",
              "157                                               stupid\n",
              "158                                             location\n",
              "159                                             location\n",
              "160                                             location\n",
              "161                                        somethingelse\n",
              "162                                        somethingelse\n",
              "163                                        somethingelse\n",
              "164                                        somethingelse\n",
              "165                                              friends\n",
              "166                                                  ask\n",
              "167                                              problem\n",
              "168                                              problem\n",
              "169                                           noapproach\n",
              "170                                           noapproach\n",
              "171                                           noapproach\n",
              "172                                            learnmore\n",
              "173                                            learnmore\n",
              "174                                            learnmore\n",
              "175                                            useragree\n",
              "176                                            useragree\n",
              "177                                           meditation\n",
              "178                                           meditation\n",
              "179                                       usermeditation\n",
              "180                                       usermeditation\n",
              "181                                        pandorauseful\n",
              "182                                           useradvice\n",
              "183                                           useradvice\n",
              "184                                           useradvice\n",
              "185                                    learnmentalhealth\n",
              "186                                    learnmentalhealth\n",
              "187                                    learnmentalhealth\n",
              "188                                     mentalhealthfact\n",
              "189                                     mentalhealthfact\n",
              "190                               definitionmentalhealth\n",
              "191                               definitionmentalhealth\n",
              "192                               importancementalhealth\n",
              "193                               importancementalhealth\n",
              "194                                 definitiondepression\n",
              "195                                 definitiondepression\n",
              "196                                           depression\n",
              "197                                           depression\n",
              "198                                           depression\n",
              "199                                           depression\n",
              "200                                  definitiontherapist\n",
              "201                                  definitiontherapist\n",
              "202                                    definitiontherapy\n",
              "203                                    definitiontherapy\n",
              "204                                    definitiontherapy\n",
              "205                              definitionmentalillness\n",
              "206                                   affectmetalillness\n",
              "207                                  causesmentalillness\n",
              "208                                   signsmentalillness\n",
              "209                                 recovermentalillness\n",
              "210                             tosymptomsmentaldisorder\n",
              "211                                             findhelp\n",
              "212                                     treatmentoptions\n",
              "213                                  involvedintreatment\n",
              "214                  differencementalhealthprofessionals\n",
              "215                                           stresswork\n",
              "216                                           stresswork\n",
              "217                                            bullywork\n",
              "218                                            wherehelp\n",
              "219                                        newmedication\n",
              "220                                          findtherapy\n",
              "221                                mentalhealthtreatment\n",
              "222              differenttypesmentalhealthprofessionals\n",
              "223                                         supportgroup\n",
              "224                                  preventmentalhealth\n",
              "225                              curementalhealthproblem\n",
              "226                              curementalhealthproblem\n",
              "227                             causmentalhealthproblems\n",
              "228                                              worried\n",
              "229                                               unwell\n",
              "230                                    socialconnections\n",
              "231                                        anxietystress\n",
              "232                                    sadnessdepression\n",
              "233                                    sadnessdepression\n",
              "234                                    meanmentalillness\n",
              "235                                  affectmentalillness\n",
              "236                                  causesmentalillness\n",
              "237                                   signsmentalillness\n",
              "238                                 recovermentalillness\n",
              "239                                   todomentaldisorder\n",
              "240                         findmentalhealthprofessional\n",
              "241                                     treatmentoptions\n",
              "242                                    involvedtreatment\n",
              "243                  differencementalhealthprofessionals\n",
              "244                       findmentalhealthprofessionalII\n",
              "245                                  involvedtreatmentII\n",
              "246                                                 help\n",
              "247                                        newmedication\n",
              "248                               feelingaftermedication\n",
              "249                                 helppayingmedication\n",
              "250                                          findtherapy\n",
              "251                           learnmentalhealthtreatment\n",
              "252                differencementalhealthprofessionalsII\n",
              "253                                     findsupportgroup\n",
              "254                                    findinpatientcare\n",
              "255                                     fintlocalservice\n",
              "256                                   learnclinicaltrias\n",
              "257                                             learnPAD\n",
              "258                               definitionmentalhealth\n",
              "259                                    supportdoesntwork\n",
              "260                          preventmentalhealthproblems\n",
              "261                            curesmentalhealthproblems\n",
              "262                           causesmentalhealthproblems\n",
              "263                                  worriedmentalhealth\n",
              "264                                        feelingunwell\n",
              "265                                        worriedfriend\n",
              "266                                      tellingwhattodo\n",
              "267                                         keepinformed\n",
              "268                                    healthinformation\n",
              "269                                                 plan\n",
              "270                                    socialconnectiosn\n",
              "271                               takecarephysicalhealth\n",
              "272                                       usedistraction\n",
              "273                                              reframe\n",
              "274                               challengethinkingtraps\n",
              "275                                          managegrief\n",
              "276                   finddoctorpsychiatristpsychologist\n",
              "277                                      seepsychiatrist\n",
              "278                                      seepsychologist\n",
              "279                                        seecounsellor\n",
              "280                                     findgroupsupport\n",
              "281                                    childyouthservice\n",
              "282                                       adultsfindhelp\n",
              "283                               findselfhelpdepression\n",
              "284                                  findselfhelpanxiety\n",
              "285                                             findhelp\n",
              "286                                         substanceuse\n",
              "287                                      freecounselling\n",
              "288                    helppayingprescriptionmedications\n",
              "289                                  paymentalhealthcare\n",
              "290                                applyincomeassistance\n",
              "291                                                  MSP\n",
              "292                                             referral\n",
              "293                   differencepsychiatristpsychologist\n",
              "294                   differencepsychotherapycounselling\n",
              "295                                     differenceCBTDBT\n",
              "296                            differenceantidepressants\n",
              "297                                    diagnosisquestion\n",
              "298                                   medicationdontwork\n",
              "299                                       personseemsill\n",
              "300                                 worriedchildteenager\n",
              "301                               informationbraininjury\n",
              "302                                lovedpersondepression\n",
              "303                             lovedpersonschizophrenia\n",
              "304                                  parentsmentalillnes\n",
              "305                                              suicide\n",
              "306                        differencementalhealthillness\n",
              "307                                informationdepression\n",
              "308                     differenceanxietyanxietydisorder\n",
              "309                              differenceanxietystress\n",
              "310                          differencesadnessdepression\n",
              "311                        dysthymiapersistentdepressive\n",
              "312                                  cyclothymicdisorder\n",
              "313                                         rapidcycling\n",
              "314                            informationhelpborderline\n",
              "315                                     schizoiddisorder\n",
              "316                                   antisocialdisorder\n",
              "317                          obsessivecompulsivedisorder\n",
              "318                                  bingeeatingdisorder\n",
              "319    differencedissociativeidentitydisorderschizoph...\n",
              "320                     differencepsychosisschizophrenia\n",
              "321                             positivenegativesymptoms\n",
              "322                                             prodrome\n",
              "323                                            ADHDadult\n",
              "324                      differencesubstanceuseaddiction\n",
              "325                                   helpalcoholdruguse\n",
              "326                                      drinkingtoomuch\n",
              "327                                    convincekidsdrugs\n",
              "328                                               cbdoil\n",
              "329                                               vaping\n",
              "Name: tags, dtype: object"
            ]
          },
          "execution_count": 9,
          "metadata": {},
          "output_type": "execute_result"
        }
      ],
      "source": [
        "json_df['tags']"
      ]
    },
    {
      "cell_type": "markdown",
      "metadata": {
        "id": "xcOhojwWA0KN"
      },
      "source": [
        "# Pre-Processing 🏗"
      ]
    },
    {
      "cell_type": "markdown",
      "metadata": {
        "id": "gUsR6-jdA8P3"
      },
      "source": [
        "## Lowercases / removing punctuation"
      ]
    },
    {
      "cell_type": "code",
      "execution_count": 10,
      "metadata": {
        "colab": {
          "base_uri": "https://localhost:8080/"
        },
        "id": "OopZrjvfA7tb",
        "outputId": "58886684-afd7-4be9-f4ea-354eeb522ff2"
      },
      "outputs": [
        {
          "name": "stderr",
          "output_type": "stream",
          "text": [
            "C:\\Users\\sdonthi\\AppData\\Local\\Temp/ipykernel_17504/1545242841.py:4: FutureWarning: The default value of regex will change from True to False in a future version.\n",
            "  pre_df = pre_df.apply(lambda x: x.astype(str).str.replace('[{}]'.format(string.punctuation),''))\n"
          ]
        }
      ],
      "source": [
        "pre_df = json_df.apply(lambda x: x.astype(str).str.lower())\n",
        "\n",
        "import string\n",
        "pre_df = pre_df.apply(lambda x: x.astype(str).str.replace('[{}]'.format(string.punctuation),''))"
      ]
    },
    {
      "cell_type": "markdown",
      "metadata": {
        "id": "c4YJZtSRBKSV"
      },
      "source": [
        "## Tokenization"
      ]
    },
    {
      "cell_type": "code",
      "execution_count": 11,
      "metadata": {
        "id": "y41cOYtjBI-V"
      },
      "outputs": [],
      "source": [
        "from tensorflow.keras.preprocessing.text import Tokenizer\n",
        "# Create a Tokenizer object\n",
        "tokenizer = Tokenizer(num_words=2000)\n",
        "tokenizer.fit_on_texts(pre_df['patterns'])\n",
        "tokenized_text = tokenizer.texts_to_sequences(pre_df['patterns'])\n",
        "\n",
        "from tensorflow.keras.preprocessing.sequence import pad_sequences\n",
        "x_train = pad_sequences(tokenized_text)\n",
        "\n",
        "from sklearn.preprocessing import LabelEncoder\n",
        "# Create a LabelEncoder object\n",
        "encoder = LabelEncoder()\n",
        "y_train = encoder.fit_transform(pre_df['tags'])"
      ]
    },
    {
      "cell_type": "code",
      "execution_count": 25,
      "metadata": {},
      "outputs": [],
      "source": [
        "pre_df.to_pickle('pre_df.pkl')"
      ]
    },
    {
      "cell_type": "code",
      "execution_count": 12,
      "metadata": {
        "colab": {
          "base_uri": "https://localhost:8080/"
        },
        "id": "EBy1e1w6Bksk",
        "outputId": "e5c6b5ef-9db7-431c-98f9-3fa52a7e0dd3"
      },
      "outputs": [
        {
          "name": "stdout",
          "output_type": "stream",
          "text": [
            "Found 443 unique tokens.\n"
          ]
        }
      ],
      "source": [
        "# Creating the word list\n",
        "word_index = tokenizer.word_index\n",
        "print(\"Found %s unique tokens.\" % len(word_index))"
      ]
    },
    {
      "cell_type": "code",
      "execution_count": 13,
      "metadata": {
        "colab": {
          "base_uri": "https://localhost:8080/"
        },
        "id": "BvelbXz8B6l-",
        "outputId": "29136beb-5867-4c19-e6d6-8e636c6a06ef"
      },
      "outputs": [
        {
          "name": "stdout",
          "output_type": "stream",
          "text": [
            "(330, 21)\n",
            "(330,)\n"
          ]
        }
      ],
      "source": [
        "print(x_train.shape)\n",
        "print(y_train.shape)"
      ]
    },
    {
      "cell_type": "code",
      "execution_count": 14,
      "metadata": {
        "colab": {
          "base_uri": "https://localhost:8080/"
        },
        "id": "8EL-ywK9JenS",
        "outputId": "100c5d6a-e64b-4606-962c-ea3e9a085b35"
      },
      "outputs": [
        {
          "name": "stdout",
          "output_type": "stream",
          "text": [
            "Output length:  166\n"
          ]
        }
      ],
      "source": [
        "output_length = encoder.classes_.shape[0]\n",
        "print('Output length: ', output_length)"
      ]
    },
    {
      "cell_type": "markdown",
      "metadata": {
        "id": "Sqi7mBtqCFQ1"
      },
      "source": [
        "# Model 🕸"
      ]
    },
    {
      "cell_type": "code",
      "execution_count": 15,
      "metadata": {
        "id": "w2KFFKWMGZue"
      },
      "outputs": [],
      "source": [
        "from keras.models import Model\n",
        "from keras.models import Sequential\n",
        "from keras.layers import Input, Embedding, LSTM, Flatten, Dense, Dropout"
      ]
    },
    {
      "cell_type": "code",
      "execution_count": 16,
      "metadata": {
        "id": "nWSHMWOUGfne"
      },
      "outputs": [],
      "source": [
        "input_size = x_train.shape[1]\n",
        "output_size = encoder.classes_.shape[0]"
      ]
    },
    {
      "cell_type": "code",
      "execution_count": 32,
      "metadata": {},
      "outputs": [
        {
          "data": {
            "text/plain": [
              "166"
            ]
          },
          "execution_count": 32,
          "metadata": {},
          "output_type": "execute_result"
        }
      ],
      "source": [
        "output_size"
      ]
    },
    {
      "cell_type": "code",
      "execution_count": 17,
      "metadata": {
        "id": "mUDm5DpyGh7U"
      },
      "outputs": [],
      "source": [
        "model = Sequential()\n",
        "model.add(Embedding(len(word_index) + 1, 16, input_shape=(input_size,)))\n",
        "model.add(LSTM(16, return_sequences=True))\n",
        "model.add(LSTM(32, return_sequences=True))\n",
        "model.add(Dropout(0.2))\n",
        "model.add(Flatten())\n",
        "model.add(Dense(output_length, activation='sigmoid'))"
      ]
    },
    {
      "cell_type": "code",
      "execution_count": 18,
      "metadata": {
        "id": "tkh3vnGmGklT"
      },
      "outputs": [],
      "source": [
        "model.compile(loss='sparse_categorical_crossentropy', optimizer='adam', metrics=['accuracy'])"
      ]
    },
    {
      "cell_type": "code",
      "execution_count": 27,
      "metadata": {
        "colab": {
          "base_uri": "https://localhost:8080/"
        },
        "id": "4eiREB_pGnsJ",
        "outputId": "f2c1b34f-809a-46e2-d368-6c215c5a5404"
      },
      "outputs": [
        {
          "name": "stdout",
          "output_type": "stream",
          "text": [
            "Epoch 1/200\n",
            "11/11 [==============================] - 0s 11ms/step - loss: 0.6742 - accuracy: 0.7788\n",
            "Epoch 2/200\n",
            "11/11 [==============================] - 0s 11ms/step - loss: 0.6772 - accuracy: 0.7758\n",
            "Epoch 3/200\n",
            "11/11 [==============================] - 0s 10ms/step - loss: 0.6787 - accuracy: 0.7788\n",
            "Epoch 4/200\n",
            "11/11 [==============================] - 0s 11ms/step - loss: 0.6362 - accuracy: 0.7879\n",
            "Epoch 5/200\n",
            "11/11 [==============================] - 0s 10ms/step - loss: 0.6531 - accuracy: 0.7970\n",
            "Epoch 6/200\n",
            "11/11 [==============================] - 0s 10ms/step - loss: 0.6361 - accuracy: 0.7970\n",
            "Epoch 7/200\n",
            "11/11 [==============================] - 0s 10ms/step - loss: 0.6371 - accuracy: 0.7758\n",
            "Epoch 8/200\n",
            "11/11 [==============================] - 0s 11ms/step - loss: 0.6187 - accuracy: 0.7879\n",
            "Epoch 9/200\n",
            "11/11 [==============================] - 0s 13ms/step - loss: 0.6135 - accuracy: 0.7970\n",
            "Epoch 10/200\n",
            "11/11 [==============================] - 0s 11ms/step - loss: 0.6105 - accuracy: 0.8061\n",
            "Epoch 11/200\n",
            "11/11 [==============================] - 0s 10ms/step - loss: 0.6229 - accuracy: 0.7788\n",
            "Epoch 12/200\n",
            "11/11 [==============================] - 0s 10ms/step - loss: 0.6257 - accuracy: 0.7939\n",
            "Epoch 13/200\n",
            "11/11 [==============================] - 0s 11ms/step - loss: 0.6116 - accuracy: 0.8030\n",
            "Epoch 14/200\n",
            "11/11 [==============================] - 0s 10ms/step - loss: 0.5950 - accuracy: 0.8212\n",
            "Epoch 15/200\n",
            "11/11 [==============================] - 0s 10ms/step - loss: 0.6269 - accuracy: 0.8000\n",
            "Epoch 16/200\n",
            "11/11 [==============================] - 0s 10ms/step - loss: 0.6135 - accuracy: 0.7939\n",
            "Epoch 17/200\n",
            "11/11 [==============================] - 0s 10ms/step - loss: 0.6246 - accuracy: 0.7909\n",
            "Epoch 18/200\n",
            "11/11 [==============================] - 0s 10ms/step - loss: 0.6137 - accuracy: 0.8182\n",
            "Epoch 19/200\n",
            "11/11 [==============================] - 0s 11ms/step - loss: 0.5869 - accuracy: 0.8242\n",
            "Epoch 20/200\n",
            "11/11 [==============================] - 0s 10ms/step - loss: 0.5753 - accuracy: 0.7909\n",
            "Epoch 21/200\n",
            "11/11 [==============================] - 0s 10ms/step - loss: 0.6010 - accuracy: 0.7970\n",
            "Epoch 22/200\n",
            "11/11 [==============================] - 0s 11ms/step - loss: 0.5935 - accuracy: 0.7970\n",
            "Epoch 23/200\n",
            "11/11 [==============================] - 0s 10ms/step - loss: 0.5734 - accuracy: 0.8182\n",
            "Epoch 24/200\n",
            "11/11 [==============================] - 0s 11ms/step - loss: 0.5736 - accuracy: 0.8212\n",
            "Epoch 25/200\n",
            "11/11 [==============================] - 0s 10ms/step - loss: 0.5906 - accuracy: 0.8182\n",
            "Epoch 26/200\n",
            "11/11 [==============================] - 0s 10ms/step - loss: 0.5854 - accuracy: 0.7636\n",
            "Epoch 27/200\n",
            "11/11 [==============================] - 0s 10ms/step - loss: 0.5736 - accuracy: 0.7909\n",
            "Epoch 28/200\n",
            "11/11 [==============================] - 0s 10ms/step - loss: 0.5703 - accuracy: 0.8121\n",
            "Epoch 29/200\n",
            "11/11 [==============================] - 0s 10ms/step - loss: 0.5654 - accuracy: 0.8000\n",
            "Epoch 30/200\n",
            "11/11 [==============================] - 0s 10ms/step - loss: 0.5484 - accuracy: 0.8364\n",
            "Epoch 31/200\n",
            "11/11 [==============================] - 0s 10ms/step - loss: 0.5568 - accuracy: 0.8182\n",
            "Epoch 32/200\n",
            "11/11 [==============================] - 0s 10ms/step - loss: 0.5658 - accuracy: 0.7788\n",
            "Epoch 33/200\n",
            "11/11 [==============================] - 0s 10ms/step - loss: 0.5391 - accuracy: 0.8303\n",
            "Epoch 34/200\n",
            "11/11 [==============================] - 0s 10ms/step - loss: 0.5678 - accuracy: 0.8091\n",
            "Epoch 35/200\n",
            "11/11 [==============================] - 0s 10ms/step - loss: 0.5269 - accuracy: 0.8182\n",
            "Epoch 36/200\n",
            "11/11 [==============================] - 0s 10ms/step - loss: 0.5371 - accuracy: 0.8152\n",
            "Epoch 37/200\n",
            "11/11 [==============================] - 0s 12ms/step - loss: 0.5501 - accuracy: 0.7970\n",
            "Epoch 38/200\n",
            "11/11 [==============================] - 0s 10ms/step - loss: 0.5385 - accuracy: 0.8152\n",
            "Epoch 39/200\n",
            "11/11 [==============================] - 0s 10ms/step - loss: 0.5374 - accuracy: 0.8333\n",
            "Epoch 40/200\n",
            "11/11 [==============================] - 0s 10ms/step - loss: 0.5376 - accuracy: 0.8091\n",
            "Epoch 41/200\n",
            "11/11 [==============================] - 0s 10ms/step - loss: 0.5397 - accuracy: 0.8182\n",
            "Epoch 42/200\n",
            "11/11 [==============================] - 0s 10ms/step - loss: 0.5430 - accuracy: 0.8152\n",
            "Epoch 43/200\n",
            "11/11 [==============================] - 0s 10ms/step - loss: 0.5442 - accuracy: 0.8030\n",
            "Epoch 44/200\n",
            "11/11 [==============================] - 0s 11ms/step - loss: 0.5099 - accuracy: 0.8273\n",
            "Epoch 45/200\n",
            "11/11 [==============================] - 0s 10ms/step - loss: 0.5412 - accuracy: 0.8212\n",
            "Epoch 46/200\n",
            "11/11 [==============================] - 0s 10ms/step - loss: 0.5213 - accuracy: 0.8121\n",
            "Epoch 47/200\n",
            "11/11 [==============================] - 0s 10ms/step - loss: 0.5154 - accuracy: 0.8242\n",
            "Epoch 48/200\n",
            "11/11 [==============================] - 0s 10ms/step - loss: 0.4969 - accuracy: 0.8455\n",
            "Epoch 49/200\n",
            "11/11 [==============================] - 0s 10ms/step - loss: 0.5021 - accuracy: 0.8303\n",
            "Epoch 50/200\n",
            "11/11 [==============================] - 0s 10ms/step - loss: 0.4851 - accuracy: 0.8485\n",
            "Epoch 51/200\n",
            "11/11 [==============================] - 0s 10ms/step - loss: 0.5019 - accuracy: 0.8333\n",
            "Epoch 52/200\n",
            "11/11 [==============================] - 0s 13ms/step - loss: 0.5154 - accuracy: 0.8303\n",
            "Epoch 53/200\n",
            "11/11 [==============================] - 0s 10ms/step - loss: 0.5030 - accuracy: 0.8364\n",
            "Epoch 54/200\n",
            "11/11 [==============================] - 0s 10ms/step - loss: 0.5053 - accuracy: 0.8424\n",
            "Epoch 55/200\n",
            "11/11 [==============================] - 0s 10ms/step - loss: 0.4810 - accuracy: 0.8515\n",
            "Epoch 56/200\n",
            "11/11 [==============================] - 0s 10ms/step - loss: 0.4851 - accuracy: 0.8030\n",
            "Epoch 57/200\n",
            "11/11 [==============================] - 0s 11ms/step - loss: 0.4754 - accuracy: 0.8394\n",
            "Epoch 58/200\n",
            "11/11 [==============================] - 0s 11ms/step - loss: 0.4902 - accuracy: 0.8394\n",
            "Epoch 59/200\n",
            "11/11 [==============================] - 0s 10ms/step - loss: 0.4772 - accuracy: 0.8333\n",
            "Epoch 60/200\n",
            "11/11 [==============================] - 0s 10ms/step - loss: 0.4742 - accuracy: 0.8424\n",
            "Epoch 61/200\n",
            "11/11 [==============================] - 0s 10ms/step - loss: 0.4769 - accuracy: 0.8485\n",
            "Epoch 62/200\n",
            "11/11 [==============================] - 0s 10ms/step - loss: 0.4656 - accuracy: 0.8333\n",
            "Epoch 63/200\n",
            "11/11 [==============================] - 0s 10ms/step - loss: 0.4875 - accuracy: 0.8455\n",
            "Epoch 64/200\n",
            "11/11 [==============================] - 0s 10ms/step - loss: 0.4750 - accuracy: 0.8424\n",
            "Epoch 65/200\n",
            "11/11 [==============================] - 0s 10ms/step - loss: 0.4592 - accuracy: 0.8303\n",
            "Epoch 66/200\n",
            "11/11 [==============================] - 0s 11ms/step - loss: 0.4988 - accuracy: 0.8394\n",
            "Epoch 67/200\n",
            "11/11 [==============================] - 0s 12ms/step - loss: 0.4790 - accuracy: 0.8333\n",
            "Epoch 68/200\n",
            "11/11 [==============================] - 0s 10ms/step - loss: 0.4811 - accuracy: 0.8273\n",
            "Epoch 69/200\n",
            "11/11 [==============================] - 0s 10ms/step - loss: 0.4514 - accuracy: 0.8455\n",
            "Epoch 70/200\n",
            "11/11 [==============================] - 0s 10ms/step - loss: 0.4353 - accuracy: 0.8667\n",
            "Epoch 71/200\n",
            "11/11 [==============================] - 0s 10ms/step - loss: 0.4600 - accuracy: 0.8394\n",
            "Epoch 72/200\n",
            "11/11 [==============================] - 0s 10ms/step - loss: 0.4430 - accuracy: 0.8424\n",
            "Epoch 73/200\n",
            "11/11 [==============================] - 0s 11ms/step - loss: 0.4559 - accuracy: 0.8515\n",
            "Epoch 74/200\n",
            "11/11 [==============================] - 0s 10ms/step - loss: 0.4272 - accuracy: 0.8697\n",
            "Epoch 75/200\n",
            "11/11 [==============================] - 0s 10ms/step - loss: 0.4525 - accuracy: 0.8182\n",
            "Epoch 76/200\n",
            "11/11 [==============================] - 0s 10ms/step - loss: 0.4197 - accuracy: 0.8667\n",
            "Epoch 77/200\n",
            "11/11 [==============================] - 0s 10ms/step - loss: 0.4392 - accuracy: 0.8424\n",
            "Epoch 78/200\n",
            "11/11 [==============================] - 0s 10ms/step - loss: 0.4509 - accuracy: 0.8333\n",
            "Epoch 79/200\n",
            "11/11 [==============================] - 0s 10ms/step - loss: 0.4606 - accuracy: 0.8455\n",
            "Epoch 80/200\n",
            "11/11 [==============================] - 0s 10ms/step - loss: 0.4352 - accuracy: 0.8424\n",
            "Epoch 81/200\n",
            "11/11 [==============================] - 0s 12ms/step - loss: 0.4458 - accuracy: 0.8455\n",
            "Epoch 82/200\n",
            "11/11 [==============================] - 0s 10ms/step - loss: 0.4136 - accuracy: 0.8697\n",
            "Epoch 83/200\n",
            "11/11 [==============================] - 0s 10ms/step - loss: 0.4222 - accuracy: 0.8545\n",
            "Epoch 84/200\n",
            "11/11 [==============================] - 0s 10ms/step - loss: 0.4237 - accuracy: 0.8606\n",
            "Epoch 85/200\n",
            "11/11 [==============================] - 0s 10ms/step - loss: 0.4199 - accuracy: 0.8758\n",
            "Epoch 86/200\n",
            "11/11 [==============================] - 0s 10ms/step - loss: 0.4363 - accuracy: 0.8576\n",
            "Epoch 87/200\n",
            "11/11 [==============================] - 0s 10ms/step - loss: 0.4064 - accuracy: 0.8818\n",
            "Epoch 88/200\n",
            "11/11 [==============================] - 0s 10ms/step - loss: 0.3937 - accuracy: 0.8667\n",
            "Epoch 89/200\n",
            "11/11 [==============================] - 0s 10ms/step - loss: 0.3946 - accuracy: 0.8758\n",
            "Epoch 90/200\n",
            "11/11 [==============================] - 0s 10ms/step - loss: 0.4115 - accuracy: 0.8697\n",
            "Epoch 91/200\n",
            "11/11 [==============================] - 0s 10ms/step - loss: 0.3950 - accuracy: 0.8667\n",
            "Epoch 92/200\n",
            "11/11 [==============================] - 0s 9ms/step - loss: 0.3862 - accuracy: 0.8636\n",
            "Epoch 93/200\n",
            "11/11 [==============================] - 0s 10ms/step - loss: 0.3891 - accuracy: 0.8697\n",
            "Epoch 94/200\n",
            "11/11 [==============================] - 0s 10ms/step - loss: 0.3801 - accuracy: 0.8909\n",
            "Epoch 95/200\n",
            "11/11 [==============================] - 0s 11ms/step - loss: 0.3984 - accuracy: 0.8758\n",
            "Epoch 96/200\n",
            "11/11 [==============================] - 0s 10ms/step - loss: 0.3838 - accuracy: 0.8758\n",
            "Epoch 97/200\n",
            "11/11 [==============================] - 0s 10ms/step - loss: 0.3891 - accuracy: 0.8697\n",
            "Epoch 98/200\n",
            "11/11 [==============================] - 0s 10ms/step - loss: 0.3788 - accuracy: 0.8667\n",
            "Epoch 99/200\n",
            "11/11 [==============================] - 0s 10ms/step - loss: 0.3935 - accuracy: 0.8697\n",
            "Epoch 100/200\n",
            "11/11 [==============================] - 0s 10ms/step - loss: 0.3808 - accuracy: 0.8727\n",
            "Epoch 101/200\n",
            "11/11 [==============================] - 0s 10ms/step - loss: 0.3811 - accuracy: 0.8636\n",
            "Epoch 102/200\n",
            "11/11 [==============================] - 0s 10ms/step - loss: 0.3942 - accuracy: 0.8455\n",
            "Epoch 103/200\n",
            "11/11 [==============================] - 0s 10ms/step - loss: 0.3744 - accuracy: 0.8788\n",
            "Epoch 104/200\n",
            "11/11 [==============================] - 0s 11ms/step - loss: 0.3902 - accuracy: 0.8667\n",
            "Epoch 105/200\n",
            "11/11 [==============================] - 0s 10ms/step - loss: 0.3818 - accuracy: 0.8758\n",
            "Epoch 106/200\n",
            "11/11 [==============================] - 0s 10ms/step - loss: 0.3932 - accuracy: 0.8667\n",
            "Epoch 107/200\n",
            "11/11 [==============================] - 0s 10ms/step - loss: 0.3938 - accuracy: 0.8515\n",
            "Epoch 108/200\n",
            "11/11 [==============================] - 0s 9ms/step - loss: 0.3684 - accuracy: 0.8788\n",
            "Epoch 109/200\n",
            "11/11 [==============================] - 0s 12ms/step - loss: 0.3641 - accuracy: 0.8818\n",
            "Epoch 110/200\n",
            "11/11 [==============================] - 0s 10ms/step - loss: 0.3758 - accuracy: 0.8727\n",
            "Epoch 111/200\n",
            "11/11 [==============================] - 0s 10ms/step - loss: 0.3836 - accuracy: 0.8394\n",
            "Epoch 112/200\n",
            "11/11 [==============================] - 0s 10ms/step - loss: 0.3639 - accuracy: 0.8667\n",
            "Epoch 113/200\n",
            "11/11 [==============================] - 0s 10ms/step - loss: 0.3590 - accuracy: 0.8818\n",
            "Epoch 114/200\n",
            "11/11 [==============================] - 0s 10ms/step - loss: 0.3546 - accuracy: 0.8879\n",
            "Epoch 115/200\n",
            "11/11 [==============================] - 0s 10ms/step - loss: 0.3546 - accuracy: 0.8909\n",
            "Epoch 116/200\n",
            "11/11 [==============================] - 0s 10ms/step - loss: 0.3527 - accuracy: 0.8848\n",
            "Epoch 117/200\n",
            "11/11 [==============================] - 0s 10ms/step - loss: 0.3678 - accuracy: 0.8697\n",
            "Epoch 118/200\n",
            "11/11 [==============================] - 0s 10ms/step - loss: 0.3456 - accuracy: 0.8788\n",
            "Epoch 119/200\n",
            "11/11 [==============================] - 0s 10ms/step - loss: 0.3575 - accuracy: 0.8788\n",
            "Epoch 120/200\n",
            "11/11 [==============================] - 0s 10ms/step - loss: 0.3767 - accuracy: 0.8636\n",
            "Epoch 121/200\n",
            "11/11 [==============================] - 0s 10ms/step - loss: 0.3350 - accuracy: 0.8939\n",
            "Epoch 122/200\n",
            "11/11 [==============================] - 0s 10ms/step - loss: 0.3479 - accuracy: 0.8697\n",
            "Epoch 123/200\n",
            "11/11 [==============================] - 0s 12ms/step - loss: 0.3470 - accuracy: 0.8879\n",
            "Epoch 124/200\n",
            "11/11 [==============================] - 0s 10ms/step - loss: 0.3409 - accuracy: 0.8909\n",
            "Epoch 125/200\n",
            "11/11 [==============================] - 0s 10ms/step - loss: 0.3395 - accuracy: 0.8727\n",
            "Epoch 126/200\n",
            "11/11 [==============================] - 0s 10ms/step - loss: 0.3424 - accuracy: 0.8970\n",
            "Epoch 127/200\n",
            "11/11 [==============================] - 0s 11ms/step - loss: 0.3568 - accuracy: 0.8636\n",
            "Epoch 128/200\n",
            "11/11 [==============================] - 0s 10ms/step - loss: 0.3458 - accuracy: 0.8727\n",
            "Epoch 129/200\n",
            "11/11 [==============================] - 0s 10ms/step - loss: 0.3345 - accuracy: 0.8939\n",
            "Epoch 130/200\n",
            "11/11 [==============================] - 0s 10ms/step - loss: 0.3362 - accuracy: 0.8939\n",
            "Epoch 131/200\n",
            "11/11 [==============================] - 0s 10ms/step - loss: 0.3335 - accuracy: 0.8727\n",
            "Epoch 132/200\n",
            "11/11 [==============================] - 0s 10ms/step - loss: 0.3137 - accuracy: 0.8970\n",
            "Epoch 133/200\n",
            "11/11 [==============================] - 0s 10ms/step - loss: 0.3171 - accuracy: 0.8909\n",
            "Epoch 134/200\n",
            "11/11 [==============================] - 0s 10ms/step - loss: 0.3609 - accuracy: 0.8758\n",
            "Epoch 135/200\n",
            "11/11 [==============================] - 0s 10ms/step - loss: 0.3285 - accuracy: 0.9000\n",
            "Epoch 136/200\n",
            "11/11 [==============================] - 0s 10ms/step - loss: 0.3195 - accuracy: 0.8788\n",
            "Epoch 137/200\n",
            "11/11 [==============================] - 0s 12ms/step - loss: 0.3371 - accuracy: 0.8909\n",
            "Epoch 138/200\n",
            "11/11 [==============================] - 0s 10ms/step - loss: 0.3154 - accuracy: 0.8818\n",
            "Epoch 139/200\n",
            "11/11 [==============================] - 0s 10ms/step - loss: 0.3233 - accuracy: 0.8848\n",
            "Epoch 140/200\n",
            "11/11 [==============================] - 0s 10ms/step - loss: 0.3262 - accuracy: 0.8939\n",
            "Epoch 141/200\n",
            "11/11 [==============================] - 0s 10ms/step - loss: 0.3165 - accuracy: 0.8939\n",
            "Epoch 142/200\n",
            "11/11 [==============================] - 0s 10ms/step - loss: 0.3050 - accuracy: 0.9000\n",
            "Epoch 143/200\n",
            "11/11 [==============================] - 0s 10ms/step - loss: 0.3129 - accuracy: 0.8909\n",
            "Epoch 144/200\n",
            "11/11 [==============================] - 0s 11ms/step - loss: 0.2990 - accuracy: 0.9061\n",
            "Epoch 145/200\n",
            "11/11 [==============================] - 0s 10ms/step - loss: 0.2996 - accuracy: 0.9000\n",
            "Epoch 146/200\n",
            "11/11 [==============================] - 0s 11ms/step - loss: 0.3166 - accuracy: 0.8879\n",
            "Epoch 147/200\n",
            "11/11 [==============================] - 0s 11ms/step - loss: 0.2997 - accuracy: 0.9000\n",
            "Epoch 148/200\n",
            "11/11 [==============================] - 0s 10ms/step - loss: 0.3100 - accuracy: 0.8879\n",
            "Epoch 149/200\n",
            "11/11 [==============================] - 0s 10ms/step - loss: 0.3090 - accuracy: 0.8939\n",
            "Epoch 150/200\n",
            "11/11 [==============================] - 0s 11ms/step - loss: 0.3160 - accuracy: 0.9000\n",
            "Epoch 151/200\n",
            "11/11 [==============================] - 0s 11ms/step - loss: 0.3009 - accuracy: 0.8970\n",
            "Epoch 152/200\n",
            "11/11 [==============================] - 0s 10ms/step - loss: 0.3009 - accuracy: 0.8727\n",
            "Epoch 153/200\n",
            "11/11 [==============================] - 0s 11ms/step - loss: 0.2922 - accuracy: 0.8970\n",
            "Epoch 154/200\n",
            "11/11 [==============================] - 0s 10ms/step - loss: 0.3067 - accuracy: 0.9061\n",
            "Epoch 155/200\n",
            "11/11 [==============================] - 0s 10ms/step - loss: 0.3066 - accuracy: 0.9030\n",
            "Epoch 156/200\n",
            "11/11 [==============================] - 0s 10ms/step - loss: 0.3035 - accuracy: 0.8667\n",
            "Epoch 157/200\n",
            "11/11 [==============================] - 0s 10ms/step - loss: 0.3073 - accuracy: 0.8788\n",
            "Epoch 158/200\n",
            "11/11 [==============================] - 0s 9ms/step - loss: 0.2842 - accuracy: 0.8909\n",
            "Epoch 159/200\n",
            "11/11 [==============================] - 0s 10ms/step - loss: 0.2850 - accuracy: 0.8818\n",
            "Epoch 160/200\n",
            "11/11 [==============================] - 0s 11ms/step - loss: 0.2946 - accuracy: 0.8939\n",
            "Epoch 161/200\n",
            "11/11 [==============================] - 0s 10ms/step - loss: 0.2908 - accuracy: 0.8939\n",
            "Epoch 162/200\n",
            "11/11 [==============================] - 0s 11ms/step - loss: 0.2971 - accuracy: 0.8879\n",
            "Epoch 163/200\n",
            "11/11 [==============================] - 0s 10ms/step - loss: 0.3031 - accuracy: 0.8909\n",
            "Epoch 164/200\n",
            "11/11 [==============================] - 0s 10ms/step - loss: 0.2880 - accuracy: 0.9061\n",
            "Epoch 165/200\n",
            "11/11 [==============================] - 0s 10ms/step - loss: 0.2967 - accuracy: 0.8727\n",
            "Epoch 166/200\n",
            "11/11 [==============================] - 0s 10ms/step - loss: 0.2853 - accuracy: 0.8848\n",
            "Epoch 167/200\n",
            "11/11 [==============================] - 0s 10ms/step - loss: 0.2772 - accuracy: 0.9030\n",
            "Epoch 168/200\n",
            "11/11 [==============================] - 0s 11ms/step - loss: 0.2645 - accuracy: 0.9061\n",
            "Epoch 169/200\n",
            "11/11 [==============================] - 0s 11ms/step - loss: 0.2795 - accuracy: 0.8788\n",
            "Epoch 170/200\n",
            "11/11 [==============================] - 0s 10ms/step - loss: 0.2739 - accuracy: 0.9030\n",
            "Epoch 171/200\n",
            "11/11 [==============================] - 0s 10ms/step - loss: 0.2687 - accuracy: 0.9091\n",
            "Epoch 172/200\n",
            "11/11 [==============================] - 0s 10ms/step - loss: 0.2844 - accuracy: 0.8848\n",
            "Epoch 173/200\n",
            "11/11 [==============================] - 0s 10ms/step - loss: 0.2718 - accuracy: 0.9030\n",
            "Epoch 174/200\n",
            "11/11 [==============================] - 0s 12ms/step - loss: 0.2706 - accuracy: 0.8879\n",
            "Epoch 175/200\n",
            "11/11 [==============================] - 0s 10ms/step - loss: 0.2809 - accuracy: 0.8909\n",
            "Epoch 176/200\n",
            "11/11 [==============================] - 0s 10ms/step - loss: 0.2714 - accuracy: 0.9182\n",
            "Epoch 177/200\n",
            "11/11 [==============================] - 0s 11ms/step - loss: 0.2792 - accuracy: 0.9061\n",
            "Epoch 178/200\n",
            "11/11 [==============================] - 0s 10ms/step - loss: 0.2754 - accuracy: 0.8848\n",
            "Epoch 179/200\n",
            "11/11 [==============================] - 0s 10ms/step - loss: 0.2736 - accuracy: 0.8879\n",
            "Epoch 180/200\n",
            "11/11 [==============================] - 0s 10ms/step - loss: 0.2608 - accuracy: 0.9000\n",
            "Epoch 181/200\n",
            "11/11 [==============================] - 0s 10ms/step - loss: 0.2830 - accuracy: 0.9061\n",
            "Epoch 182/200\n",
            "11/11 [==============================] - 0s 10ms/step - loss: 0.2750 - accuracy: 0.9000\n",
            "Epoch 183/200\n",
            "11/11 [==============================] - 0s 10ms/step - loss: 0.2744 - accuracy: 0.8909\n",
            "Epoch 184/200\n",
            "11/11 [==============================] - 0s 10ms/step - loss: 0.2815 - accuracy: 0.9000\n",
            "Epoch 185/200\n",
            "11/11 [==============================] - 0s 10ms/step - loss: 0.2736 - accuracy: 0.8879\n",
            "Epoch 186/200\n",
            "11/11 [==============================] - 0s 12ms/step - loss: 0.2705 - accuracy: 0.9030\n",
            "Epoch 187/200\n",
            "11/11 [==============================] - 0s 10ms/step - loss: 0.2737 - accuracy: 0.8970\n",
            "Epoch 188/200\n",
            "11/11 [==============================] - 0s 10ms/step - loss: 0.2513 - accuracy: 0.8970\n",
            "Epoch 189/200\n",
            "11/11 [==============================] - 0s 10ms/step - loss: 0.2750 - accuracy: 0.8939\n",
            "Epoch 190/200\n",
            "11/11 [==============================] - 0s 10ms/step - loss: 0.2663 - accuracy: 0.8939\n",
            "Epoch 191/200\n",
            "11/11 [==============================] - 0s 10ms/step - loss: 0.2631 - accuracy: 0.9030\n",
            "Epoch 192/200\n",
            "11/11 [==============================] - 0s 10ms/step - loss: 0.2633 - accuracy: 0.8939\n",
            "Epoch 193/200\n",
            "11/11 [==============================] - 0s 10ms/step - loss: 0.2433 - accuracy: 0.9061\n",
            "Epoch 194/200\n",
            "11/11 [==============================] - 0s 11ms/step - loss: 0.2778 - accuracy: 0.8970\n",
            "Epoch 195/200\n",
            "11/11 [==============================] - 0s 10ms/step - loss: 0.2505 - accuracy: 0.9061\n",
            "Epoch 196/200\n",
            "11/11 [==============================] - 0s 10ms/step - loss: 0.2362 - accuracy: 0.9182\n",
            "Epoch 197/200\n",
            "11/11 [==============================] - 0s 10ms/step - loss: 0.2470 - accuracy: 0.9273\n",
            "Epoch 198/200\n",
            "11/11 [==============================] - 0s 12ms/step - loss: 0.2529 - accuracy: 0.8939\n",
            "Epoch 199/200\n",
            "11/11 [==============================] - 0s 10ms/step - loss: 0.2476 - accuracy: 0.9000\n",
            "Epoch 200/200\n",
            "11/11 [==============================] - 0s 10ms/step - loss: 0.2487 - accuracy: 0.9030\n"
          ]
        }
      ],
      "source": [
        "train = model.fit(x_train, y_train, epochs=200)"
      ]
    },
    {
      "cell_type": "code",
      "execution_count": 20,
      "metadata": {
        "colab": {
          "base_uri": "https://localhost:8080/",
          "height": 283
        },
        "id": "Tun-lFwyGvA5",
        "outputId": "a037b564-739b-499e-fa06-d2dee95470ea"
      },
      "outputs": [
        {
          "data": {
            "text/plain": [
              "<matplotlib.legend.Legend at 0x274402dc700>"
            ]
          },
          "execution_count": 20,
          "metadata": {},
          "output_type": "execute_result"
        },
        {
          "data": {
            "image/png": "[encoded data removed]",
            "text/plain": [
              "<Figure size 432x288 with 1 Axes>"
            ]
          },
          "metadata": {
            "needs_background": "light"
          },
          "output_type": "display_data"
        }
      ],
      "source": [
        "plt.plot(train.history['accuracy'], label='training set accuracy')\n",
        "plt.plot(train.history['loss'], label='trainig set loss')\n",
        "plt.legend()"
      ]
    },
    {
      "cell_type": "code",
      "execution_count": 21,
      "metadata": {
        "colab": {
          "base_uri": "https://localhost:8080/",
          "height": 661
        },
        "id": "xf4pnvfjsgHm",
        "outputId": "7cc51a23-181b-44b9-ca84-c45d9b719760"
      },
      "outputs": [
        {
          "name": "stdout",
          "output_type": "stream",
          "text": [
            "You must install pydot (`pip install pydot`) and install graphviz (see instructions at https://graphviz.gitlab.io/download/) for plot_model/model_to_dot to work.\n"
          ]
        }
      ],
      "source": [
        "tf.keras.utils.plot_model(model)"
      ]
    },
    {
      "cell_type": "markdown",
      "metadata": {
        "id": "R3Otx0zNjQ-X"
      },
      "source": [
        "#Chatbot 🤖"
      ]
    },
    {
      "cell_type": "code",
      "execution_count": 162,
      "metadata": {
        "colab": {
          "base_uri": "https://localhost:8080/"
        },
        "id": "93Pjw-gEje9a",
        "outputId": "a164871f-31f1-4594-b491-89846d2ce4c1"
      },
      "outputs": [
        {
          "name": "stdout",
          "output_type": "stream",
          "text": [
            "User: hi\n",
            "1/1 [==============================] - 0s 27ms/step\n",
            "response=greeting\n",
            "Pocket Therapist:  Hello there. Tell me how are you feeling today?\n",
            "User: bye\n",
            "Goodbye and take care.\n"
          ]
        }
      ],
      "source": [
        "\"\"\" while True:\n",
        "  conversation = []\n",
        "  user_input = input('User: ')\n",
        "  if user_input == 'bye':\n",
        "    print('Goodbye and take care.')\n",
        "    break\n",
        "\n",
        "  # converting lowercase / removing punctuation \n",
        "  user_input = user_input.lower()\n",
        "  user_input = re.sub(r'[^\\w\\s]', '', user_input)\n",
        "  conversation.append(user_input)\n",
        "\n",
        "  # tokenizer / padding\n",
        "  user_input = tokenizer.texts_to_sequences(conversation)\n",
        "  user_input = np.array(user_input).reshape(-1)\n",
        "  user_input = pad_sequences([user_input], input_size)\n",
        "\n",
        "  # output\n",
        "  output = model.predict(user_input)\n",
        "  output = output.argmax()\n",
        "\n",
        "  # prediction\n",
        "  response = encoder.inverse_transform([output])[0]\n",
        "  print('response=' + response)\n",
        "  if response in responses:\n",
        "    print('Pocket Therapist: ', random.choice(responses[response]))\n",
        "  else:\n",
        "    print('Sorry, I do not understand. Can you please rephrase?')\n",
        "  if response == 'goodbye':\n",
        "    break \"\"\""
      ]
    },
    {
      "cell_type": "code",
      "execution_count": 22,
      "metadata": {},
      "outputs": [
        {
          "name": "stderr",
          "output_type": "stream",
          "text": [
            "WARNING:absl:Found untraced functions such as lstm_cell_layer_call_fn, lstm_cell_layer_call_and_return_conditional_losses, lstm_cell_1_layer_call_fn, lstm_cell_1_layer_call_and_return_conditional_losses while saving (showing 4 of 4). These functions will not be directly callable after loading.\n"
          ]
        },
        {
          "name": "stdout",
          "output_type": "stream",
          "text": [
            "INFO:tensorflow:Assets written to: ./saved_model/assets\n"
          ]
        },
        {
          "name": "stderr",
          "output_type": "stream",
          "text": [
            "INFO:tensorflow:Assets written to: ./saved_model/assets\n"
          ]
        }
      ],
      "source": [
        "model.save(filepath='./saved_model/', include_optimizer=True, overwrite=True)"
      ]
    },
    {
      "cell_type": "code",
      "execution_count": 29,
      "metadata": {},
      "outputs": [],
      "source": [
        "model.save('mindmate_model.h5')"
      ]
    }
  ],
  "metadata": {
    "colab": {
      "authorship_tag": "ABX9TyMfj1S++BgK4adIe4e88ScI",
      "include_colab_link": true,
      "provenance": []
    },
    "kernelspec": {
      "display_name": "Python 3",
      "language": "python",
      "name": "python3"
    },
    "language_info": {
      "codemirror_mode": {
        "name": "ipython",
        "version": 3
      },
      "file_extension": ".py",
      "mimetype": "text/x-python",
      "name": "python",
      "nbconvert_exporter": "python",
      "pygments_lexer": "ipython3",
      "version": "3.10.6"
    },
    "vscode": {
      "interpreter": {
        "hash": "dc40aa98bc857e6b44b78fb1f886858e51ffa17b4908ef3c7ccadfa45af47b27"
      }
    }
  },
  "nbformat": 4,
  "nbformat_minor": 0
}
